{
 "cells": [
  {
   "cell_type": "code",
   "execution_count": 48,
   "metadata": {
    "scrolled": true
   },
   "outputs": [],
   "source": [
    "import pandas as pd #veri dosyalarını dataframe olarak yüklemek, verileri analiz etmek için\n",
    "import numpy as np\n",
    "import matplotlib.pyplot as plt #verilerinin grafiklerini çizmek için\n",
    "from sklearn import preprocessing\n",
    "from sklearn.linear_model import LogisticRegression\n",
    "import seaborn as sns\n",
    "from distutils.version import LooseVersion as Version\n",
    "from sklearn import __version__ as sklearn_version\n",
    "from IPython.display import Image\n",
    "%matplotlib inline\n",
    "\n",
    "trainset = pd.read_csv(\"C:\\\\Users\\\\ASUS\\\\Desktop\\\\4\\\\DataMining\\\\proje1\\\\Project_1\\\\datatraining.csv\")\n",
    "testset = pd.read_csv(\"C:\\\\Users\\\\ASUS\\\\Desktop\\\\4\\\\DataMining\\\\proje1\\\\Project_1\\\\datatest.csv\")\n",
    "testset2 = pd.read_csv(\"C:\\\\Users\\\\ASUS\\\\Desktop\\\\4\\\\DataMining\\\\proje1\\\\Project_1\\\\datatest2.csv\")\n",
    "\n",
    "\n"
   ]
  },
  {
   "cell_type": "markdown",
   "metadata": {},
   "source": [
    "# Investigate the data:"
   ]
  },
  {
   "cell_type": "code",
   "execution_count": 49,
   "metadata": {},
   "outputs": [
    {
     "name": "stdout",
     "output_type": "stream",
     "text": [
      "                  date  Temperature  Humidity  Light     CO2  HumidityRatio  \\\n",
      "1  2015-02-04 17:51:00        23.18   27.2720  426.0  721.25       0.004793   \n",
      "2  2015-02-04 17:51:59        23.15   27.2675  429.5  714.00       0.004783   \n",
      "3  2015-02-04 17:53:00        23.15   27.2450  426.0  713.50       0.004779   \n",
      "4  2015-02-04 17:54:00        23.15   27.2000  426.0  708.25       0.004772   \n",
      "5  2015-02-04 17:55:00        23.10   27.2000  426.0  704.50       0.004757   \n",
      "\n",
      "   Occupancy  \n",
      "1          1  \n",
      "2          1  \n",
      "3          1  \n",
      "4          1  \n",
      "5          1  \n",
      "                    date  Temperature  Humidity       Light         CO2  \\\n",
      "140  2015-02-02 14:19:00      23.7000    26.272  585.200000  749.200000   \n",
      "141  2015-02-02 14:19:59      23.7180    26.290  578.400000  760.400000   \n",
      "142  2015-02-02 14:21:00      23.7300    26.230  572.666667  769.666667   \n",
      "143  2015-02-02 14:22:00      23.7225    26.125  493.750000  774.750000   \n",
      "144  2015-02-02 14:23:00      23.7540    26.200  488.600000  779.000000   \n",
      "\n",
      "     HumidityRatio  Occupancy  \n",
      "140       0.004764          1  \n",
      "141       0.004773          1  \n",
      "142       0.004765          1  \n",
      "143       0.004744          1  \n",
      "144       0.004767          1  \n",
      "                  date  Temperature   Humidity       Light          CO2  \\\n",
      "1  2015-02-11 14:48:00      21.7600  31.133333  437.333333  1029.666667   \n",
      "2  2015-02-11 14:49:00      21.7900  31.000000  437.333333  1000.000000   \n",
      "3  2015-02-11 14:50:00      21.7675  31.122500  434.000000  1003.750000   \n",
      "4  2015-02-11 14:51:00      21.7675  31.122500  439.000000  1009.500000   \n",
      "5  2015-02-11 14:51:59      21.7900  31.133333  437.333333  1005.666667   \n",
      "\n",
      "   HumidityRatio  Occupancy  \n",
      "1       0.005021          1  \n",
      "2       0.005009          1  \n",
      "3       0.005022          1  \n",
      "4       0.005022          1  \n",
      "5       0.005030          1  \n"
     ]
    }
   ],
   "source": [
    "#train ve test datasetlerinin ilk 5 satırı ve feature'ları tablo halinde gösterildi.\n",
    "print(trainset.head())\n",
    "print(testset.head())\n",
    "print(testset2.head())"
   ]
  },
  {
   "cell_type": "code",
   "execution_count": 50,
   "metadata": {
    "scrolled": true
   },
   "outputs": [
    {
     "data": {
      "text/plain": [
       "<matplotlib.axes._subplots.AxesSubplot at 0x1d56bff3080>"
      ]
     },
     "execution_count": 50,
     "metadata": {},
     "output_type": "execute_result"
    },
    {
     "data": {
      "image/png": "[encoded data removed]",
      "text/plain": [
       "<Figure size 432x288 with 1 Axes>"
      ]
     },
     "metadata": {
      "needs_background": "light"
     },
     "output_type": "display_data"
    }
   ],
   "source": [
    "#trainset'deki doluluk(1) ve boş olma(0) durumlarının oranını grafikle görselleştirildi.\n",
    "sns.countplot(x='Occupancy',data=trainset)"
   ]
  },
  {
   "cell_type": "markdown",
   "metadata": {},
   "source": [
    "**Trainset ve testset1'deki CO2 feature'nin frekansları, \n",
    "ayrılan datasetlerdeki 2 datasete de gelen CO2 dağılımları histogram ile gösterildi.\n",
    "2 grafik oranlarındaki farklılık istenilem bir durum değildir. Ayrılan dataset featurelerinin eşit oranda dağılım yapılmasını isteriz."
   ]
  },
  {
   "cell_type": "code",
   "execution_count": 51,
   "metadata": {},
   "outputs": [
    {
     "data": {
      "text/plain": [
       "<matplotlib.axes._subplots.AxesSubplot at 0x1d56ac8bb70>"
      ]
     },
     "execution_count": 51,
     "metadata": {},
     "output_type": "execute_result"
    },
    {
     "data": {
      "image/png": "[encoded data removed]",
      "text/plain": [
       "<Figure size 432x288 with 1 Axes>"
      ]
     },
     "metadata": {
      "needs_background": "light"
     },
     "output_type": "display_data"
    }
   ],
   "source": [
    "trainset[\"CO2\"].plot.hist()"
   ]
  },
  {
   "cell_type": "code",
   "execution_count": 52,
   "metadata": {},
   "outputs": [
    {
     "data": {
      "text/plain": [
       "<matplotlib.axes._subplots.AxesSubplot at 0x1d56c0267f0>"
      ]
     },
     "execution_count": 52,
     "metadata": {},
     "output_type": "execute_result"
    },
    {
     "data": {
      "image/png": "[encoded data removed]",
      "text/plain": [
       "<Figure size 432x288 with 1 Axes>"
      ]
     },
     "metadata": {
      "needs_background": "light"
     },
     "output_type": "display_data"
    }
   ],
   "source": [
    "testset[\"CO2\"].plot.hist()"
   ]
  },
  {
   "cell_type": "markdown",
   "metadata": {},
   "source": [
    "**Datasetlerimizde boş değer var mı diye kontrol edildi. Datasetlerde boş değerler bulunmamaktadır. Bulunsaydı önemli veri kaybı yoksa silme ya da içini doldurma işlemi yapılacaktı."
   ]
  },
  {
   "cell_type": "code",
   "execution_count": 53,
   "metadata": {},
   "outputs": [
    {
     "data": {
      "text/plain": [
       "date             0\n",
       "Temperature      0\n",
       "Humidity         0\n",
       "Light            0\n",
       "CO2              0\n",
       "HumidityRatio    0\n",
       "Occupancy        0\n",
       "dtype: int64"
      ]
     },
     "execution_count": 53,
     "metadata": {},
     "output_type": "execute_result"
    }
   ],
   "source": [
    "trainset.isnull().sum()\n"
   ]
  },
  {
   "cell_type": "code",
   "execution_count": 54,
   "metadata": {},
   "outputs": [
    {
     "data": {
      "text/plain": [
       "date             0\n",
       "Temperature      0\n",
       "Humidity         0\n",
       "Light            0\n",
       "CO2              0\n",
       "HumidityRatio    0\n",
       "Occupancy        0\n",
       "dtype: int64"
      ]
     },
     "execution_count": 54,
     "metadata": {},
     "output_type": "execute_result"
    }
   ],
   "source": [
    "testset.isnull().sum()"
   ]
  },
  {
   "cell_type": "code",
   "execution_count": 55,
   "metadata": {},
   "outputs": [
    {
     "data": {
      "text/plain": [
       "date             0\n",
       "Temperature      0\n",
       "Humidity         0\n",
       "Light            0\n",
       "CO2              0\n",
       "HumidityRatio    0\n",
       "Occupancy        0\n",
       "dtype: int64"
      ]
     },
     "execution_count": 55,
     "metadata": {},
     "output_type": "execute_result"
    }
   ],
   "source": [
    "testset2.isnull().sum()"
   ]
  },
  {
   "cell_type": "markdown",
   "metadata": {},
   "source": [
    "**Date feature'ında string değer bulunmaktadır. Yapılacak işlemlerde etki göstermemesi için date sütunu silindi. Yeni tablo tekrar görselleştirildi."
   ]
  },
  {
   "cell_type": "code",
   "execution_count": 56,
   "metadata": {},
   "outputs": [
    {
     "name": "stdout",
     "output_type": "stream",
     "text": [
      "   Temperature  Humidity  Light     CO2  HumidityRatio  Occupancy\n",
      "1        23.18   27.2720  426.0  721.25       0.004793          1\n",
      "2        23.15   27.2675  429.5  714.00       0.004783          1\n",
      "3        23.15   27.2450  426.0  713.50       0.004779          1\n",
      "4        23.15   27.2000  426.0  708.25       0.004772          1\n",
      "5        23.10   27.2000  426.0  704.50       0.004757          1\n"
     ]
    }
   ],
   "source": [
    "#trainset.drop(trainset.index[6])\n",
    "#axis=1 bir satır değil, bir sütundan bahsttiğimizi gösterir.Bu kodda hata aldığım için aşağıdaki gibi silme işlemi yaptım.\n",
    "trainset=trainset.drop(columns=['date'])\n",
    "testset=testset.drop(columns=['date'])\n",
    "testset2=testset2.drop(columns=['date'])\n",
    "print(trainset.head())"
   ]
  },
  {
   "cell_type": "markdown",
   "metadata": {},
   "source": [
    "**Trainset korelasyonuna bakıldı. Burada amaç 2 feature arasında ne kadar ilgi olduğunu anlamak. Eğer aynı yönde değişiyorsa pozitif, zıt yönde değişim varsa negatif ilişki vardır deriz. Yüksek düzeyde ilişki varsa bazı algoritmalarda düşük performans oluşturabilir.Birini çıkarmamız gerekebilir. Aşağıdaki tabloda temperature-humidity arasında negatif ilişki vardır. Humidity ve HumidityRatio arasında yüksek(0.95 , 1e yakın)ilişki vardır."
   ]
  },
  {
   "cell_type": "code",
   "execution_count": 57,
   "metadata": {},
   "outputs": [
    {
     "data": {
      "text/html": [
       "<div>\n",
       "<style scoped>\n",
       "    .dataframe tbody tr th:only-of-type {\n",
       "        vertical-align: middle;\n",
       "    }\n",
       "\n",
       "    .dataframe tbody tr th {\n",
       "        vertical-align: top;\n",
       "    }\n",
       "\n",
       "    .dataframe thead th {\n",
       "        text-align: right;\n",
       "    }\n",
       "</style>\n",
       "<table border=\"1\" class=\"dataframe\">\n",
       "  <thead>\n",
       "    <tr style=\"text-align: right;\">\n",
       "      <th></th>\n",
       "      <th>Temperature</th>\n",
       "      <th>Humidity</th>\n",
       "      <th>Light</th>\n",
       "      <th>CO2</th>\n",
       "      <th>HumidityRatio</th>\n",
       "      <th>Occupancy</th>\n",
       "    </tr>\n",
       "  </thead>\n",
       "  <tbody>\n",
       "    <tr>\n",
       "      <th>Temperature</th>\n",
       "      <td>1.000000</td>\n",
       "      <td>-0.141759</td>\n",
       "      <td>0.649942</td>\n",
       "      <td>0.559894</td>\n",
       "      <td>0.151762</td>\n",
       "      <td>0.538220</td>\n",
       "    </tr>\n",
       "    <tr>\n",
       "      <th>Humidity</th>\n",
       "      <td>-0.141759</td>\n",
       "      <td>1.000000</td>\n",
       "      <td>0.037828</td>\n",
       "      <td>0.439023</td>\n",
       "      <td>0.955198</td>\n",
       "      <td>0.132964</td>\n",
       "    </tr>\n",
       "    <tr>\n",
       "      <th>Light</th>\n",
       "      <td>0.649942</td>\n",
       "      <td>0.037828</td>\n",
       "      <td>1.000000</td>\n",
       "      <td>0.664022</td>\n",
       "      <td>0.230420</td>\n",
       "      <td>0.907352</td>\n",
       "    </tr>\n",
       "    <tr>\n",
       "      <th>CO2</th>\n",
       "      <td>0.559894</td>\n",
       "      <td>0.439023</td>\n",
       "      <td>0.664022</td>\n",
       "      <td>1.000000</td>\n",
       "      <td>0.626556</td>\n",
       "      <td>0.712235</td>\n",
       "    </tr>\n",
       "    <tr>\n",
       "      <th>HumidityRatio</th>\n",
       "      <td>0.151762</td>\n",
       "      <td>0.955198</td>\n",
       "      <td>0.230420</td>\n",
       "      <td>0.626556</td>\n",
       "      <td>1.000000</td>\n",
       "      <td>0.300282</td>\n",
       "    </tr>\n",
       "    <tr>\n",
       "      <th>Occupancy</th>\n",
       "      <td>0.538220</td>\n",
       "      <td>0.132964</td>\n",
       "      <td>0.907352</td>\n",
       "      <td>0.712235</td>\n",
       "      <td>0.300282</td>\n",
       "      <td>1.000000</td>\n",
       "    </tr>\n",
       "  </tbody>\n",
       "</table>\n",
       "</div>"
      ],
      "text/plain": [
       "               Temperature  Humidity     Light       CO2  HumidityRatio  \\\n",
       "Temperature       1.000000 -0.141759  0.649942  0.559894       0.151762   \n",
       "Humidity         -0.141759  1.000000  0.037828  0.439023       0.955198   \n",
       "Light             0.649942  0.037828  1.000000  0.664022       0.230420   \n",
       "CO2               0.559894  0.439023  0.664022  1.000000       0.626556   \n",
       "HumidityRatio     0.151762  0.955198  0.230420  0.626556       1.000000   \n",
       "Occupancy         0.538220  0.132964  0.907352  0.712235       0.300282   \n",
       "\n",
       "               Occupancy  \n",
       "Temperature     0.538220  \n",
       "Humidity        0.132964  \n",
       "Light           0.907352  \n",
       "CO2             0.712235  \n",
       "HumidityRatio   0.300282  \n",
       "Occupancy       1.000000  "
      ]
     },
     "execution_count": 57,
     "metadata": {},
     "output_type": "execute_result"
    }
   ],
   "source": [
    "trainset.corr()"
   ]
  },
  {
   "cell_type": "markdown",
   "metadata": {},
   "source": [
    "**describe()= bu fonsiyon kullanılarak ortalama, standart sapma, medyan,  en küçük ve en büyük değerleri, 25%,50% çekreklerin sayısı gibi sadece sayısal sütunlar için özet istatistikleri gösterildi.\n",
    "Standart sapmanın yüksek olması iyi bir durum değildir, düşük standart sapma, veri noktalarının ortalamaya yakın olma eğiliminde olduğunu göstermektedir.\n",
    "info()=dataframe hakkında bazı genel bilgileri vermek için kullanıldı.\n",
    "flot64, int64 özelliklerimizin veri tiplerini göstermektedir."
   ]
  },
  {
   "cell_type": "code",
   "execution_count": 58,
   "metadata": {},
   "outputs": [
    {
     "name": "stdout",
     "output_type": "stream",
     "text": [
      "       Temperature     Humidity        Light          CO2  HumidityRatio  \\\n",
      "count  8143.000000  8143.000000  8143.000000  8143.000000    8143.000000   \n",
      "mean     20.619084    25.731507   119.519375   606.546243       0.003863   \n",
      "std       1.016916     5.531211   194.755805   314.320877       0.000852   \n",
      "min      19.000000    16.745000     0.000000   412.750000       0.002674   \n",
      "25%      19.700000    20.200000     0.000000   439.000000       0.003078   \n",
      "50%      20.390000    26.222500     0.000000   453.500000       0.003801   \n",
      "75%      21.390000    30.533333   256.375000   638.833333       0.004352   \n",
      "max      23.180000    39.117500  1546.333333  2028.500000       0.006476   \n",
      "\n",
      "         Occupancy  \n",
      "count  8143.000000  \n",
      "mean      0.212330  \n",
      "std       0.408982  \n",
      "min       0.000000  \n",
      "25%       0.000000  \n",
      "50%       0.000000  \n",
      "75%       0.000000  \n",
      "max       1.000000  \n",
      "<class 'pandas.core.frame.DataFrame'>\n",
      "Int64Index: 8143 entries, 1 to 8143\n",
      "Data columns (total 6 columns):\n",
      "Temperature      8143 non-null float64\n",
      "Humidity         8143 non-null float64\n",
      "Light            8143 non-null float64\n",
      "CO2              8143 non-null float64\n",
      "HumidityRatio    8143 non-null float64\n",
      "Occupancy        8143 non-null int64\n",
      "dtypes: float64(5), int64(1)\n",
      "memory usage: 765.3 KB\n",
      "None\n"
     ]
    }
   ],
   "source": [
    "print(trainset.describe())\n",
    "print(trainset.info())"
   ]
  },
  {
   "cell_type": "markdown",
   "metadata": {},
   "source": [
    "# Build Train, Test and Validation Data Sets:"
   ]
  },
  {
   "cell_type": "markdown",
   "metadata": {},
   "source": [
    "**Projede hazır ayrılmış olara verilen datasetler X=eğitim setin özelliklerinin[1:5] örnekleri, y=etiket vektörü,her örneğin etiketi, sonucudur['Occupancy']. Bir doğru denklemi olarak düşünülebilir."
   ]
  },
  {
   "cell_type": "code",
   "execution_count": 59,
   "metadata": {},
   "outputs": [],
   "source": [
    "X_train =  trainset.iloc[:,1:5].values\n",
    "y_train =  trainset['Occupancy'].values\n",
    "X_test1 = testset.iloc[:,1:5].values\n",
    "y_test1 = testset['Occupancy'].values\n",
    "X_test2 = testset2.iloc[:,1:5].values\n",
    "y_test2 = testset2['Occupancy'].values\n"
   ]
  },
  {
   "cell_type": "code",
   "execution_count": 60,
   "metadata": {
    "scrolled": false
   },
   "outputs": [
    {
     "name": "stdout",
     "output_type": "stream",
     "text": [
      "[[2.72720000e+01 4.26000000e+02 7.21250000e+02 4.79298818e-03]\n",
      " [2.72675000e+01 4.29500000e+02 7.14000000e+02 4.78344095e-03]\n",
      " [2.72450000e+01 4.26000000e+02 7.13500000e+02 4.77946352e-03]\n",
      " ...\n",
      " [3.60950000e+01 4.33000000e+02 7.98500000e+02 5.59563902e-03]\n",
      " [3.62600000e+01 4.33000000e+02 8.20333333e+02 5.62144937e-03]\n",
      " [3.62000000e+01 4.47000000e+02 8.21000000e+02 5.61206354e-03]]\n",
      "[1 1 1 ... 1 1 1]\n"
     ]
    }
   ],
   "source": [
    "print (X_train)\n",
    "print (y_train)"
   ]
  },
  {
   "cell_type": "markdown",
   "metadata": {},
   "source": [
    "**StandardScaler():Feature için ortalama ve standart sapma hesaplanır,ortalamayı kaldırır ve verileri birim varyansa ölçeklendirir. \n",
    "MinMaxScaler(): Veriler genellikle 0 ile 1 arasında sabit bir aralığa ölçeklendirilir.Standart scaler'in çok iyi çalışmadığı durumlarda daha iyi çalışır. Standart sapma çok küçükse, min-max  daha iyi çalışır.\n",
    "MinMaxScaler() algoritmaların çoğunda daha yüksek doğruluk oranı sağladığı için tercih edildi."
   ]
  },
  {
   "cell_type": "code",
   "execution_count": 61,
   "metadata": {},
   "outputs": [],
   "source": [
    "'''from sklearn.preprocessing import StandardScaler\n",
    "sc_X = StandardScaler()\n",
    "X_train = sc_X.fit_transform(X_train)\n",
    "X_test1 = sc_X.transform(X_test1)\n",
    "X_test2 = sc_X.transform(X_test2)\n",
    "\n",
    "'''\n",
    "from sklearn.preprocessing import MinMaxScaler\n",
    "sc_X = MinMaxScaler()\n",
    "sc_X.fit(X_train)\n",
    "X_train = sc_X.fit_transform(X_train)\n",
    "X_test1 = sc_X.transform(X_test1)\n",
    "X_test2 = sc_X.transform(X_test2)\n"
   ]
  },
  {
   "cell_type": "markdown",
   "metadata": {},
   "source": [
    "**Grafik için;"
   ]
  },
  {
   "cell_type": "code",
   "execution_count": 62,
   "metadata": {},
   "outputs": [],
   "source": [
    "from sklearn.model_selection import train_test_split\n",
    "from sklearn.model_selection import learning_curve\n",
    "from sklearn.model_selection import validation_curve\n",
    "from sklearn.model_selection import cross_val_score\n",
    "from sklearn.linear_model import LogisticRegression\n",
    "\n",
    "#öğrenme eğrisi grafiği\n",
    "def plot_learning_curve(estimator, title, X, y, ylim=None, cv=None,\n",
    "                        n_jobs=1, train_sizes=np.linspace(.1, 1.0, 5)):\n",
    "    plt.figure()\n",
    "    plt.title(title)\n",
    "    if ylim is not None:\n",
    "        plt.ylim(*ylim)\n",
    "    plt.xlabel(\"Training examples\")\n",
    "    plt.ylabel(\"Score\")\n",
    "    train_sizes, train_scores, test2_scores = learning_curve(\n",
    "        estimator, X, y, cv=cv, n_jobs=n_jobs, train_sizes=train_sizes)\n",
    "    train_scores_mean = np.mean(train_scores, axis=1)\n",
    "    train_scores_std = np.std(train_scores, axis=1)\n",
    "    test2_scores_mean = np.mean(test2_scores, axis=1)\n",
    "    test2_scores_std = np.std(test2_scores, axis=1)\n",
    "    plt.grid()\n",
    "\n",
    "    plt.fill_between(train_sizes, train_scores_mean - train_scores_std,\n",
    "                     train_scores_mean + train_scores_std, alpha=0.1,\n",
    "                     color=\"r\")\n",
    "    plt.fill_between(train_sizes, test2_scores_mean - test2_scores_std,\n",
    "                     test2_scores_mean + test2_scores_std, alpha=0.1, color=\"g\")\n",
    "    plt.plot(train_sizes, train_scores_mean, 'o-', color=\"r\",\n",
    "             label=\"Training score\")\n",
    "    plt.plot(train_sizes, test2_scores_mean, 'o-', color=\"g\",\n",
    "             label=\"Validation score\")\n",
    "\n",
    "    plt.legend(loc=\"best\")\n",
    "    return plt\n",
    "#Doğrulama eğrisi grafiği\n",
    "def plot_validation_curve(estimator, title, X, y, param_name, param_range, ylim=None, cv=None,\n",
    "                        n_jobs=1, train_sizes=np.linspace(.1, 1.0, 5)):\n",
    "    train_scores, test2_scores = validation_curve(estimator, X, y, param_name, param_range, cv)\n",
    "    train_mean = np.mean(train_scores, axis=1)\n",
    "    train_std = np.std(train_scores, axis=1)\n",
    "    test2_mean = np.mean(test2_scores, axis=1)\n",
    "    test2_std = np.std(test2_scores, axis=1)\n",
    "    plt.plot(param_range, train_mean, color='r', marker='o', markersize=5, label='Training score')\n",
    "    plt.fill_between(param_range, train_mean + train_std, train_mean - train_std, alpha=0.15, color='r')\n",
    "    plt.plot(param_range, test2_mean, color='g', linestyle='--', marker='s', markersize=5, label='Validation score')\n",
    "    plt.fill_between(param_range, test2_mean + test2_std, test2_mean - test2_std, alpha=0.15, color='g')\n",
    "    plt.grid() \n",
    "    plt.xscale('log')\n",
    "    plt.legend(loc='best') \n",
    "    plt.xlabel('Parameter') \n",
    "    plt.ylabel('Score') \n",
    "    plt.ylim(ylim)"
   ]
  },
  {
   "cell_type": "markdown",
   "metadata": {},
   "source": [
    "# LOGISTIC REGRESSION"
   ]
  },
  {
   "cell_type": "markdown",
   "metadata": {},
   "source": [
    "**Verileri sınıflandırmak için kullanıldı yani tahminler yapmak veya geçmiş verilere dayanarak kararlar almak için. Belirli bir bağımsız değişkenler kümesi için ikili sonuçları öngörer. Lojistik Regresyonun çıktısı bir sigmoid eğridir. Lojistik regresyonda sadece iki olası sonuç vardır. 0 ve 1."
   ]
  },
  {
   "cell_type": "markdown",
   "metadata": {},
   "source": [
    "**Train Modeli\n",
    "Lojistik regresyon modelini eğitildi.\n",
    "(random_state = 0) 0 olmasının sebebi, verileri random karıştırma\n",
    "model 'fit' işlevini kullanarak eğitim veri setine yerleştirildi.\n",
    "Eğitilen modelin doğruluğu çıktı halinde gösterildi."
   ]
  },
  {
   "cell_type": "code",
   "execution_count": 63,
   "metadata": {},
   "outputs": [
    {
     "name": "stdout",
     "output_type": "stream",
     "text": [
      "train accuracy 0.9871054893773793\n"
     ]
    }
   ],
   "source": [
    "from sklearn.linear_model import LogisticRegression\n",
    "clf = LogisticRegression(random_state = 0)\n",
    "clf.fit(X_train,y_train)\n",
    "print('train accuracy',clf.score(X_train,y_train))"
   ]
  },
  {
   "cell_type": "markdown",
   "metadata": {},
   "source": [
    "**Test seti sonuçları tahmini\n",
    "test1 ve test2 veri seti için tahmin işlevini kullanarak sınıf etiketlerini tahmin edildi.\n"
   ]
  },
  {
   "cell_type": "code",
   "execution_count": 64,
   "metadata": {},
   "outputs": [],
   "source": [
    "y_pred = clf.predict(X_test1)\n",
    "y_pred2 = clf.predict(X_test2)\n"
   ]
  },
  {
   "cell_type": "markdown",
   "metadata": {},
   "source": [
    "**Karmaşıklık matrisi\n",
    "Doğru ve yanlış tahminlerin sayısı, sayım değerleri ile özetlendi ve her bir sınıf tarafından ayrıştırıldı.\n",
    "Sınıflandırma doğrulukları çıktı olarak belirtildi.\n",
    "test verilerinin öğrenme doğruluğu çıktıda belirtildi."
   ]
  },
  {
   "cell_type": "code",
   "execution_count": 65,
   "metadata": {},
   "outputs": [
    {
     "name": "stdout",
     "output_type": "stream",
     "text": [
      "[[1638   55]\n",
      " [   4  968]]\n",
      "test1 accuracy 0.9778611632270169\n",
      "[[7643   60]\n",
      " [  11 2038]]\n",
      "test2 accuracy 0.9927194421657096\n"
     ]
    }
   ],
   "source": [
    "from sklearn.metrics import confusion_matrix,accuracy_score\n",
    "\n",
    "cm = confusion_matrix(y_test1,y_pred)\n",
    "cm2 = confusion_matrix(y_test2,y_pred2)\n",
    "\n",
    "print(cm)\n",
    "LR=accuracy_score(y_test1,y_pred)\n",
    "print('test1 accuracy',accuracy_score(y_test1,y_pred))\n",
    "\n",
    "print(cm2)\n",
    "LR2=accuracy_score(y_test2,y_pred2)\n",
    "print('test2 accuracy',accuracy_score(y_test2,y_pred2))\n"
   ]
  },
  {
   "cell_type": "markdown",
   "metadata": {},
   "source": [
    "**Sonuç bize örneğin test1 için 1638 + 969 doğru tahminlerimizin ve 3 + 55 yanlış tahminlerimizin olduğunu göstermektedir."
   ]
  },
  {
   "cell_type": "markdown",
   "metadata": {},
   "source": [
    "**Sınıflandırma raporu\n",
    "Sınıflandırma modelinin performansını incelemek için bir yöntemdir.(y_test, tahmini)\n",
    "precision:kesinlik, doğru tahmin edilen pozitif gözlemlerin toplam tahmin edilen pozitif gözlemlere oranıdır.\n",
    "recall:hassasiyet, doğru tahmin edilen pozitif gözlemlerin gerçek sınıftaki tüm gözlemlere oranıdır. \n",
    "f1-score:hassasiyet ve hatırlamanın harmonik ortalamasını verir\n",
    "support:gerçek cevabın örnek sayısıdır."
   ]
  },
  {
   "cell_type": "code",
   "execution_count": 66,
   "metadata": {},
   "outputs": [
    {
     "name": "stdout",
     "output_type": "stream",
     "text": [
      "test1              precision    recall  f1-score   support\n",
      "\n",
      "          0       1.00      0.97      0.98      1693\n",
      "          1       0.95      1.00      0.97       972\n",
      "\n",
      "avg / total       0.98      0.98      0.98      2665\n",
      "\n",
      "test2              precision    recall  f1-score   support\n",
      "\n",
      "          0       1.00      0.99      1.00      7703\n",
      "          1       0.97      0.99      0.98      2049\n",
      "\n",
      "avg / total       0.99      0.99      0.99      9752\n",
      "\n"
     ]
    }
   ],
   "source": [
    "from sklearn.metrics import classification_report\n",
    "report = classification_report(y_test1, y_pred)\n",
    "print('test1',report)\n",
    "report = classification_report(y_test2, y_pred2)\n",
    "print('test2',report)"
   ]
  },
  {
   "cell_type": "markdown",
   "metadata": {},
   "source": [
    "**Test2 trainden yüksek doğruluk oranı verdi, overfitting oldu."
   ]
  },
  {
   "cell_type": "markdown",
   "metadata": {},
   "source": [
    "**Öğrenme eğrileri grafiği"
   ]
  },
  {
   "cell_type": "code",
   "execution_count": 67,
   "metadata": {},
   "outputs": [
    {
     "data": {
      "image/png": "[encoded data removed]",
      "text/plain": [
       "<Figure size 432x288 with 1 Axes>"
      ]
     },
     "metadata": {
      "needs_background": "light"
     },
     "output_type": "display_data"
    }
   ],
   "source": [
    "title = \"Öğrenme eğrileri (Logistic Regression)\"\n",
    "cv = 10\n",
    "plot_learning_curve(clf, title, X_train, y_train, ylim=(0.7, 1.01), cv=cv, n_jobs=1);"
   ]
  },
  {
   "cell_type": "markdown",
   "metadata": {},
   "source": [
    "**trainset öğrenme eğrisi testset öğrenme eğrisinin üstündedir. Yapılan analiz, çıktı ve grafiklerde görüldüğü gibi overfit ve underfit durumu yoktur.\n",
    "Modelin overfitting olması için; aşırı uyum, eğitim verilerini çok iyi modelleyen bir model anlamına gelir yani ezberleme durumudur. İstenilen bir sonuç değildir.\n",
    "Modelin underfitting olması için; ne eğitim verilerini modelleme ne de yeni verilere genelleme yapamayan bir modeldir. Öğrenememe durumu denilebilir. İstenilen bir sonuç değildir."
   ]
  },
  {
   "cell_type": "markdown",
   "metadata": {},
   "source": [
    "# NAIVE BAYES"
   ]
  },
  {
   "cell_type": "markdown",
   "metadata": {},
   "source": [
    "**Naive Bayes algoritması, bir tahmin yapmak için her bir sınıfa ait her bir özelliğin olasılıklarını kullanan sezgisel bir yöntemdir. Belirli bir sınıf değerine ait her bir özelliğin olasılığının diğer tüm özelliklerden bağımsız olduğunu varsayarak olasılıkların hesaplanmasını kolaylaştırır.  "
   ]
  },
  {
   "cell_type": "code",
   "execution_count": 68,
   "metadata": {},
   "outputs": [
    {
     "name": "stdout",
     "output_type": "stream",
     "text": [
      "train accuracy 0.9871054893773793\n",
      "\n",
      "[[1638   55]\n",
      " [   6  966]]\n",
      "\n",
      "test1 accuracy 0.9771106941838649\n",
      "[[7616   87]\n",
      " [  14 2035]]\n",
      "test2 accuracy 0.9896431501230517\n",
      "\n",
      "classification_report:\n",
      "\n",
      "test1              precision    recall  f1-score   support\n",
      "\n",
      "          0       1.00      0.97      0.98      1693\n",
      "          1       0.95      0.99      0.97       972\n",
      "\n",
      "avg / total       0.98      0.98      0.98      2665\n",
      "\n",
      "test2              precision    recall  f1-score   support\n",
      "\n",
      "          0       1.00      0.99      0.99      7703\n",
      "          1       0.96      0.99      0.98      2049\n",
      "\n",
      "avg / total       0.99      0.99      0.99      9752\n",
      "\n"
     ]
    }
   ],
   "source": [
    "from sklearn.naive_bayes import GaussianNB\n",
    "clf = GaussianNB()\n",
    "clf.fit(X_train, y_train)\n",
    "print('train accuracy',clf.score(X_train,y_train))\n",
    "\n",
    "print()\n",
    "\n",
    "y_pred = clf.predict(X_test1)\n",
    "y_pred2 = clf.predict(X_test2)\n",
    "from sklearn.metrics import confusion_matrix,accuracy_score\n",
    "cm = confusion_matrix(y_test1,y_pred)\n",
    "cm2 = confusion_matrix(y_test2,y_pred2)\n",
    "print(cm)\n",
    "\n",
    "\n",
    "print()\n",
    "\n",
    "NB=accuracy_score(y_test1,y_pred)\n",
    "print('test1 accuracy',accuracy_score(y_test1,y_pred))\n",
    "print(cm2)\n",
    "NB2=accuracy_score(y_test2,y_pred2)\n",
    "print('test2 accuracy',accuracy_score(y_test2,y_pred2))\n",
    "\n",
    "from sklearn.metrics import classification_report\n",
    "report = classification_report(y_test1, y_pred)\n",
    "print()\n",
    "print('classification_report:')\n",
    "print()\n",
    "print('test1',report)\n",
    "report = classification_report(y_test2, y_pred2)\n",
    "print('test2',report)\n"
   ]
  },
  {
   "cell_type": "code",
   "execution_count": 69,
   "metadata": {},
   "outputs": [
    {
     "data": {
      "image/png": "[encoded data removed]",
      "text/plain": [
       "<Figure size 432x288 with 1 Axes>"
      ]
     },
     "metadata": {
      "needs_background": "light"
     },
     "output_type": "display_data"
    }
   ],
   "source": [
    "title = \"Öğrenme eğrileri  (naive_bayes)\"\n",
    "cv = 10\n",
    "plot_learning_curve(clf, title, X_train, y_train, ylim=(0.7, 1.01), cv=cv, n_jobs=1);"
   ]
  },
  {
   "cell_type": "markdown",
   "metadata": {},
   "source": [
    "**Başlarda öğrenme durumu daha fazla gibi gözükmekte yani overfitting durumu daha sonra doğru yolu buluyor ve overfittingden kurtuluyor istenilen durum elde edildi."
   ]
  },
  {
   "cell_type": "markdown",
   "metadata": {},
   "source": [
    "# K-NEAREST NEIGHBORS"
   ]
  },
  {
   "cell_type": "markdown",
   "metadata": {},
   "source": [
    "**K-en yakın komşu sınıflandırıcısı, benzerlik ölçüsü, veri türüne bağlıdır.En benzer örneklerin eğitim veri kümesinde arama yapar. Herhangi bir iki örnek arasında tutarlı bir şekilde hesaplanabilen bir uzaklık ölçüsü dışında verilerle ilgili hiçbir şey varsaymaz, en yakın sınıfa yeni veri eklenir.  K, en yakın komşuların sayısıdır. Komşuların sayısı temel karar verici faktördür. "
   ]
  },
  {
   "cell_type": "code",
   "execution_count": 70,
   "metadata": {},
   "outputs": [
    {
     "name": "stdout",
     "output_type": "stream",
     "text": [
      "train accuracy 0.9920176839002824\n",
      "\n",
      "[[1662   31]\n",
      " [ 120  852]]\n",
      "[[7363  340]\n",
      " [ 231 1818]]\n",
      "\n",
      "test1 accuracy 0.9433395872420263\n",
      "test2 accuracy 0.941447908121411\n",
      "\n",
      "classification_report:\n",
      "\n",
      "test1              precision    recall  f1-score   support\n",
      "\n",
      "          0       0.93      0.98      0.96      1693\n",
      "          1       0.96      0.88      0.92       972\n",
      "\n",
      "avg / total       0.94      0.94      0.94      2665\n",
      "\n",
      "test2              precision    recall  f1-score   support\n",
      "\n",
      "          0       0.97      0.96      0.96      7703\n",
      "          1       0.84      0.89      0.86      2049\n",
      "\n",
      "avg / total       0.94      0.94      0.94      9752\n",
      "\n"
     ]
    }
   ],
   "source": [
    "from sklearn.neighbors import KNeighborsClassifier\n",
    "clf = KNeighborsClassifier(n_neighbors=25)\n",
    "clf.fit(X_train, y_train)\n",
    "print('train accuracy',clf.score(X_train,y_train))\n",
    "\n",
    "print()\n",
    "\n",
    "y_pred = clf.predict(X_test1)\n",
    "y_pred2 = clf.predict(X_test2)\n",
    "from sklearn.metrics import confusion_matrix,accuracy_score\n",
    "cm = confusion_matrix(y_test1,y_pred)\n",
    "cm2 = confusion_matrix(y_test2,y_pred2)\n",
    "print(cm)\n",
    "print(cm2)\n",
    "\n",
    "print()\n",
    "\n",
    "KNN=accuracy_score(y_test1,y_pred)\n",
    "print('test1 accuracy',accuracy_score(y_test1,y_pred))\n",
    "KNN2=accuracy_score(y_test2,y_pred2)\n",
    "print('test2 accuracy',accuracy_score(y_test2,y_pred2))\n",
    "\n",
    "from sklearn.metrics import classification_report\n",
    "report = classification_report(y_test1, y_pred)\n",
    "print()\n",
    "print('classification_report:')\n",
    "print()\n",
    "print('test1',report)\n",
    "report = classification_report(y_test2, y_pred2)\n",
    "print('test2',report)"
   ]
  },
  {
   "cell_type": "markdown",
   "metadata": {},
   "source": [
    "**Hiperparametrenin belirlenmesi"
   ]
  },
  {
   "cell_type": "markdown",
   "metadata": {},
   "source": [
    "**KNeighborsClassifier sınıfı sklearn.neighbors kütüphaneden import etmektedir . n_neigbours, K için değerdir. K için ideal bir değer yoktur ve test ve değerlendirmeden sonra seçilir.Yapılan denemelerde ilk olarak n'i 7 aldım performansı yüksekti, diğerlerinde 91, 7'de 92 oldu fakat sonra grafiğe göre 25 verdim 95 doğruluk oldu en iyi performans."
   ]
  },
  {
   "cell_type": "markdown",
   "metadata": {},
   "source": [
    "**Hangi k değerinin en yüksek performans getireceğini bulmak için grafik kullanıldı. (1-30 arasında)"
   ]
  },
  {
   "cell_type": "code",
   "execution_count": 71,
   "metadata": {},
   "outputs": [
    {
     "name": "stderr",
     "output_type": "stream",
     "text": [
      "C:\\ProgramData\\Anaconda3\\lib\\site-packages\\matplotlib\\pyplot.py:522: RuntimeWarning: More than 20 figures have been opened. Figures created through the pyplot interface (`matplotlib.pyplot.figure`) are retained until explicitly closed and may consume too much memory. (To control this warning, see the rcParam `figure.max_open_warning`).\n",
      "  max_open_warning, RuntimeWarning)\n"
     ]
    },
    {
     "data": {
      "text/plain": [
       "Text(0,0.5,'Mean Error')"
      ]
     },
     "execution_count": 71,
     "metadata": {},
     "output_type": "execute_result"
    },
    {
     "data": {
      "text/plain": [
       "<Figure size 864x432 with 0 Axes>"
      ]
     },
     "metadata": {},
     "output_type": "display_data"
    },
    {
     "data": {
      "text/plain": [
       "<Figure size 864x432 with 0 Axes>"
      ]
     },
     "metadata": {},
     "output_type": "display_data"
    },
    {
     "data": {
      "text/plain": [
       "<Figure size 864x432 with 0 Axes>"
      ]
     },
     "metadata": {},
     "output_type": "display_data"
    },
    {
     "data": {
      "text/plain": [
       "<Figure size 864x432 with 0 Axes>"
      ]
     },
     "metadata": {},
     "output_type": "display_data"
    },
    {
     "data": {
      "text/plain": [
       "<Figure size 864x432 with 0 Axes>"
      ]
     },
     "metadata": {},
     "output_type": "display_data"
    },
    {
     "data": {
      "text/plain": [
       "<Figure size 864x432 with 0 Axes>"
      ]
     },
     "metadata": {},
     "output_type": "display_data"
    },
    {
     "data": {
      "text/plain": [
       "<Figure size 864x432 with 0 Axes>"
      ]
     },
     "metadata": {},
     "output_type": "display_data"
    },
    {
     "data": {
      "text/plain": [
       "<Figure size 864x432 with 0 Axes>"
      ]
     },
     "metadata": {},
     "output_type": "display_data"
    },
    {
     "data": {
      "text/plain": [
       "<Figure size 864x432 with 0 Axes>"
      ]
     },
     "metadata": {},
     "output_type": "display_data"
    },
    {
     "data": {
      "text/plain": [
       "<Figure size 864x432 with 0 Axes>"
      ]
     },
     "metadata": {},
     "output_type": "display_data"
    },
    {
     "data": {
      "text/plain": [
       "<Figure size 864x432 with 0 Axes>"
      ]
     },
     "metadata": {},
     "output_type": "display_data"
    },
    {
     "data": {
      "text/plain": [
       "<Figure size 864x432 with 0 Axes>"
      ]
     },
     "metadata": {},
     "output_type": "display_data"
    },
    {
     "data": {
      "text/plain": [
       "<Figure size 864x432 with 0 Axes>"
      ]
     },
     "metadata": {},
     "output_type": "display_data"
    },
    {
     "data": {
      "text/plain": [
       "<Figure size 864x432 with 0 Axes>"
      ]
     },
     "metadata": {},
     "output_type": "display_data"
    },
    {
     "data": {
      "text/plain": [
       "<Figure size 864x432 with 0 Axes>"
      ]
     },
     "metadata": {},
     "output_type": "display_data"
    },
    {
     "data": {
      "text/plain": [
       "<Figure size 864x432 with 0 Axes>"
      ]
     },
     "metadata": {},
     "output_type": "display_data"
    },
    {
     "data": {
      "text/plain": [
       "<Figure size 864x432 with 0 Axes>"
      ]
     },
     "metadata": {},
     "output_type": "display_data"
    },
    {
     "data": {
      "text/plain": [
       "<Figure size 864x432 with 0 Axes>"
      ]
     },
     "metadata": {},
     "output_type": "display_data"
    },
    {
     "data": {
      "text/plain": [
       "<Figure size 864x432 with 0 Axes>"
      ]
     },
     "metadata": {},
     "output_type": "display_data"
    },
    {
     "data": {
      "text/plain": [
       "<Figure size 864x432 with 0 Axes>"
      ]
     },
     "metadata": {},
     "output_type": "display_data"
    },
    {
     "data": {
      "text/plain": [
       "<Figure size 864x432 with 0 Axes>"
      ]
     },
     "metadata": {},
     "output_type": "display_data"
    },
    {
     "data": {
      "text/plain": [
       "<Figure size 864x432 with 0 Axes>"
      ]
     },
     "metadata": {},
     "output_type": "display_data"
    },
    {
     "data": {
      "text/plain": [
       "<Figure size 864x432 with 0 Axes>"
      ]
     },
     "metadata": {},
     "output_type": "display_data"
    },
    {
     "data": {
      "text/plain": [
       "<Figure size 864x432 with 0 Axes>"
      ]
     },
     "metadata": {},
     "output_type": "display_data"
    },
    {
     "data": {
      "text/plain": [
       "<Figure size 864x432 with 0 Axes>"
      ]
     },
     "metadata": {},
     "output_type": "display_data"
    },
    {
     "data": {
      "text/plain": [
       "<Figure size 864x432 with 0 Axes>"
      ]
     },
     "metadata": {},
     "output_type": "display_data"
    },
    {
     "data": {
      "text/plain": [
       "<Figure size 864x432 with 0 Axes>"
      ]
     },
     "metadata": {},
     "output_type": "display_data"
    },
    {
     "data": {
      "text/plain": [
       "<Figure size 864x432 with 0 Axes>"
      ]
     },
     "metadata": {},
     "output_type": "display_data"
    },
    {
     "data": {
      "image/png": "[encoded data removed]",
      "text/plain": [
       "<Figure size 864x432 with 1 Axes>"
      ]
     },
     "metadata": {
      "needs_background": "light"
     },
     "output_type": "display_data"
    }
   ],
   "source": [
    "error = []\n",
    "\n",
    "for i in range(1, 30):  \n",
    "    knn = KNeighborsClassifier(n_neighbors=i)\n",
    "    knn.fit(X_train, y_train)\n",
    "    pred_i = knn.predict(X_test1)\n",
    "    error.append(np.mean(pred_i != y_test1))\n",
    "    plt.figure(figsize=(12, 6))  \n",
    "plt.plot(range(1, 30), error, color='red', linestyle='dashed', marker='o',  \n",
    "         markerfacecolor='blue', markersize=10)\n",
    "plt.title('Error Rate K Value')  \n",
    "plt.xlabel('K Value')  \n",
    "plt.ylabel('Mean Error') "
   ]
  },
  {
   "cell_type": "markdown",
   "metadata": {},
   "source": [
    "# DECISION TREE"
   ]
  },
  {
   "cell_type": "markdown",
   "metadata": {},
   "source": [
    "**Veri kümesini daha küçük alt kümelere bölen ve sonunda bir tahminle sonuçlanan bir ağaç yapısı oluşturulur. Veri özelliklerinden çıkarılan basit karar kurallarını öğrenerek bir hedef değişkenin değerini tahmin eden bir model yaratır."
   ]
  },
  {
   "cell_type": "code",
   "execution_count": 72,
   "metadata": {
    "scrolled": true
   },
   "outputs": [
    {
     "name": "stdout",
     "output_type": "stream",
     "text": [
      "train accuracy 1.0\n",
      "\n",
      "[[1639   54]\n",
      " [  89  883]]\n",
      "test1 accuracy 0.9463414634146341\n",
      "\n",
      "[[7381  322]\n",
      " [  65 1984]]\n",
      "test2 accuracy 0.9603158326497129\n",
      "\n",
      "classification_report:\n",
      "\n",
      "test1              precision    recall  f1-score   support\n",
      "\n",
      "          0       0.95      0.97      0.96      1693\n",
      "          1       0.94      0.91      0.93       972\n",
      "\n",
      "avg / total       0.95      0.95      0.95      2665\n",
      "\n",
      "test2              precision    recall  f1-score   support\n",
      "\n",
      "          0       0.99      0.96      0.97      7703\n",
      "          1       0.86      0.97      0.91      2049\n",
      "\n",
      "avg / total       0.96      0.96      0.96      9752\n",
      "\n"
     ]
    }
   ],
   "source": [
    "from sklearn.tree import DecisionTreeClassifier  \n",
    "clf = DecisionTreeClassifier()  \n",
    "clf.fit(X_train, y_train) \n",
    "print('train accuracy',clf.score(X_train,y_train))\n",
    "print()\n",
    "y_pred = clf.predict(X_test1)\n",
    "y_pred2 = clf.predict(X_test2)\n",
    "from sklearn.metrics import confusion_matrix,accuracy_score\n",
    "cm = confusion_matrix(y_test1,y_pred)\n",
    "cm2 = confusion_matrix(y_test2,y_pred2)\n",
    "print(cm)\n",
    "\n",
    "DT=accuracy_score(y_test1,y_pred)\n",
    "print('test1 accuracy',accuracy_score(y_test1,y_pred))\n",
    "print()\n",
    "DT2=accuracy_score(y_test2,y_pred2)\n",
    "print(cm2)\n",
    "print('test2 accuracy',accuracy_score(y_test2,y_pred2))\n",
    "from sklearn.metrics import classification_report\n",
    "report = classification_report(y_test1, y_pred)\n",
    "print()\n",
    "print('classification_report:')\n",
    "print()\n",
    "print('test1',report)\n",
    "report = classification_report(y_test2, y_pred2)\n",
    "print('test2',report)\n"
   ]
  },
  {
   "cell_type": "markdown",
   "metadata": {},
   "source": [
    "# RANDOM FOREST"
   ]
  },
  {
   "cell_type": "markdown",
   "metadata": {},
   "source": [
    "**Rastgele seçilmiş veri örneklerinde karar ağaçları oluşturur, her ağaçtan tahmin yapar ve oylama ile en iyi çözümü seçer."
   ]
  },
  {
   "cell_type": "code",
   "execution_count": 73,
   "metadata": {},
   "outputs": [
    {
     "name": "stdout",
     "output_type": "stream",
     "text": [
      "train accuracy 1.0\n",
      "\n",
      "[[1644   49]\n",
      " [ 100  872]]\n",
      "test1 accuracy 0.9440900562851783\n",
      "\n",
      "[[7485  218]\n",
      " [  19 2030]]\n",
      "test2 accuracy 0.9756972928630024\n",
      "\n",
      "classification_report:\n",
      "\n",
      "test1              precision    recall  f1-score   support\n",
      "\n",
      "          0       0.94      0.97      0.96      1693\n",
      "          1       0.95      0.90      0.92       972\n",
      "\n",
      "avg / total       0.94      0.94      0.94      2665\n",
      "\n",
      "test2              precision    recall  f1-score   support\n",
      "\n",
      "          0       1.00      0.97      0.98      7703\n",
      "          1       0.90      0.99      0.94      2049\n",
      "\n",
      "avg / total       0.98      0.98      0.98      9752\n",
      "\n"
     ]
    }
   ],
   "source": [
    "from sklearn.ensemble import RandomForestClassifier\n",
    "clf=RandomForestClassifier(n_estimators=100, random_state=0)\n",
    "clf.fit(X_train, y_train) \n",
    "print('train accuracy',clf.score(X_train,y_train))\n",
    "print()\n",
    "y_pred = clf.predict(X_test1)\n",
    "y_pred2 = clf.predict(X_test2)\n",
    "from sklearn.metrics import confusion_matrix,accuracy_score\n",
    "cm = confusion_matrix(y_test1,y_pred)\n",
    "cm2 = confusion_matrix(y_test2,y_pred2)\n",
    "print(cm)\n",
    "\n",
    "RF=accuracy_score(y_test1,y_pred)\n",
    "print('test1 accuracy',accuracy_score(y_test1,y_pred))\n",
    "print()\n",
    "print(cm2)\n",
    "\n",
    "RF2=accuracy_score(y_test2,y_pred2)\n",
    "print('test2 accuracy',accuracy_score(y_test2,y_pred2))\n",
    "print()\n",
    "print('classification_report:')\n",
    "print()\n",
    "from sklearn.metrics import classification_report\n",
    "report = classification_report(y_test1, y_pred)\n",
    "print('test1',report)\n",
    "\n",
    "report = classification_report(y_test2, y_pred2)\n",
    "print('test2',report)"
   ]
  },
  {
   "cell_type": "markdown",
   "metadata": {},
   "source": [
    "**Hiperparametrenin belirlenmesi"
   ]
  },
  {
   "cell_type": "markdown",
   "metadata": {},
   "source": [
    "**n_estimator parametresiyle kaç tane ağaç kullanacağımızı belirtilmektedir.Yazmasaydık zaten 10 olarak kabul edilecekti. 10 ile sonuçlar:train accuricy 0.99,test1 0.92,test2 0.97 geldi. 100 değeri denendi. Sonuçlar:train accuricy 1.00,test1 0.94,test2 0.97 geldi. Daha iyi.  İkinci parametre criterion, bilgi kazancını kullanmak için random=0 denildi."
   ]
  },
  {
   "cell_type": "markdown",
   "metadata": {},
   "source": [
    "# GRADIENT BOOSTING MACHINES"
   ]
  },
  {
   "cell_type": "markdown",
   "metadata": {},
   "source": [
    "**Zayıf öğrenen, çok doğru olmayan ya da birçok yordayıcıyı hesaba katmayan bir modeldir. Zayıf bir model oluşturarak, çeşitli özelliklerdeki önemli parametreler ve parametreler hakkında sonuçlar elde etmek ve daha sonra yeni, daha güçlü bir model oluşturmak için bu sonuçları kullanır."
   ]
  },
  {
   "cell_type": "code",
   "execution_count": 74,
   "metadata": {},
   "outputs": [
    {
     "name": "stdout",
     "output_type": "stream",
     "text": [
      "train accuracy 0.9981579270539114\n",
      "\n",
      "[[1643   50]\n",
      " [ 146  826]]\n",
      "test1 accuracy 0.9264540337711069\n",
      "\n",
      "test2 accuracy 0.9668785890073831\n",
      "\n",
      "classification_report:\n",
      "\n",
      "test1              precision    recall  f1-score   support\n",
      "\n",
      "          0       0.92      0.97      0.94      1693\n",
      "          1       0.94      0.85      0.89       972\n",
      "\n",
      "avg / total       0.93      0.93      0.93      2665\n",
      "\n",
      "test2              precision    recall  f1-score   support\n",
      "\n",
      "          0       0.97      0.99      0.98      7703\n",
      "          1       0.97      0.87      0.92      2049\n",
      "\n",
      "avg / total       0.97      0.97      0.97      9752\n",
      "\n"
     ]
    }
   ],
   "source": [
    "from sklearn.ensemble import GradientBoostingClassifier\n",
    "clf=GradientBoostingClassifier()\n",
    "clf.fit(X_train, y_train) \n",
    "print('train accuracy',clf.score(X_train,y_train))\n",
    "print()\n",
    "y_pred = clf.predict(X_test1)\n",
    "y_pred2 = clf.predict(X_test2)\n",
    "from sklearn.metrics import confusion_matrix,accuracy_score\n",
    "cm = confusion_matrix(y_test1,y_pred)\n",
    "cm2 = confusion_matrix(y_test2,y_pred2)\n",
    "print(cm)\n",
    "GB=accuracy_score(y_test1,y_pred)\n",
    "print('test1 accuracy',accuracy_score(y_test1,y_pred))\n",
    "print()\n",
    "GB2=accuracy_score(y_test2,y_pred2)\n",
    "print('test2 accuracy',accuracy_score(y_test2,y_pred2))\n",
    "print()\n",
    "print('classification_report:')\n",
    "print()\n",
    "from sklearn.metrics import classification_report\n",
    "report = classification_report(y_test1, y_pred)\n",
    "print('test1',report)\n",
    "report = classification_report(y_test2, y_pred2)\n",
    "print('test2',report)"
   ]
  },
  {
   "cell_type": "markdown",
   "metadata": {},
   "source": [
    "# KERNELIZED SUPPORT VECTOR"
   ]
  },
  {
   "cell_type": "code",
   "execution_count": 75,
   "metadata": {},
   "outputs": [
    {
     "name": "stdout",
     "output_type": "stream",
     "text": [
      "train accuracy 0.9879651234188874\n",
      "\n",
      "[[1638   55]\n",
      " [   2  970]]\n",
      "test1 accuracy 0.9786116322701689\n",
      "\n",
      "[[7608   95]\n",
      " [   9 2040]]\n",
      "test2 accuracy 0.9893355209187858\n",
      "\n",
      "classification_report:\n",
      "\n",
      "test1              precision    recall  f1-score   support\n",
      "\n",
      "          0       1.00      0.97      0.98      1693\n",
      "          1       0.95      1.00      0.97       972\n",
      "\n",
      "avg / total       0.98      0.98      0.98      2665\n",
      "\n",
      "test2              precision    recall  f1-score   support\n",
      "\n",
      "          0       1.00      0.99      0.99      7703\n",
      "          1       0.96      1.00      0.98      2049\n",
      "\n",
      "avg / total       0.99      0.99      0.99      9752\n",
      "\n"
     ]
    }
   ],
   "source": [
    "from sklearn.svm import SVC\n",
    "clf = SVC( random_state = 0)\n",
    "clf.fit(X_train, y_train)\n",
    "print('train accuracy',clf.score(X_train,y_train))\n",
    "print()\n",
    "y_pred = clf.predict(X_test1)\n",
    "y_pred2 = clf.predict(X_test2)\n",
    "from sklearn.metrics import confusion_matrix,accuracy_score\n",
    "cm = confusion_matrix(y_test1,y_pred)\n",
    "cm2 = confusion_matrix(y_test2,y_pred2)\n",
    "print(cm)\n",
    "K=accuracy_score(y_test1,y_pred)\n",
    "print('test1 accuracy',accuracy_score(y_test1,y_pred))\n",
    "print()\n",
    "print(cm2)\n",
    "K2=accuracy_score(y_test2,y_pred2)\n",
    "print('test2 accuracy',accuracy_score(y_test2,y_pred2))\n",
    "print()\n",
    "print('classification_report:')\n",
    "print()\n",
    "from sklearn.metrics import classification_report\n",
    "report = classification_report(y_test1, y_pred)\n",
    "print('test1',report)\n",
    "report = classification_report(y_test2, y_pred2)\n",
    "print('test2',report)"
   ]
  },
  {
   "cell_type": "markdown",
   "metadata": {},
   "source": [
    "**Test2 trainden yüksek doğruluk oranı verdi, overfitting oldu. Son denememde olmadı. "
   ]
  },
  {
   "cell_type": "markdown",
   "metadata": {},
   "source": [
    "**kernel, her seferinde aynı sonuçları almak için de random_state'e 0 diyoruz."
   ]
  },
  {
   "cell_type": "markdown",
   "metadata": {},
   "source": [
    "# PERCEPTRON"
   ]
  },
  {
   "cell_type": "code",
   "execution_count": 76,
   "metadata": {},
   "outputs": [
    {
     "name": "stdout",
     "output_type": "stream",
     "text": [
      "train accuracy 0.9523517131278398\n",
      "\n",
      "[[1623   70]\n",
      " [   1  971]]\n",
      "test1 accuracy 0.973358348968105\n",
      "\n",
      "[[7608   95]\n",
      " [   9 2040]]\n",
      "test2 accuracy 0.9893355209187858\n",
      "\n",
      "classification_report:\n",
      "\n",
      "test1              precision    recall  f1-score   support\n",
      "\n",
      "          0       1.00      0.96      0.98      1693\n",
      "          1       0.93      1.00      0.96       972\n",
      "\n",
      "avg / total       0.98      0.97      0.97      2665\n",
      "\n",
      "test2              precision    recall  f1-score   support\n",
      "\n",
      "          0       1.00      0.99      0.99      7703\n",
      "          1       0.96      1.00      0.98      2049\n",
      "\n",
      "avg / total       0.99      0.99      0.99      9752\n",
      "\n"
     ]
    }
   ],
   "source": [
    "from sklearn.linear_model import Perceptron\n",
    "clf = Perceptron(tol=1e-3, random_state=0)\n",
    "clf.fit(X_train, y_train)\n",
    "print('train accuracy',clf.score(X_train,y_train))\n",
    "print()\n",
    "y_pred = clf.predict(X_test1)\n",
    "\n",
    "from sklearn.metrics import confusion_matrix,accuracy_score\n",
    "cm = confusion_matrix(y_test1,y_pred)\n",
    "cm2 = confusion_matrix(y_test2,y_pred2)\n",
    "print(cm)\n",
    "P=accuracy_score(y_test1,y_pred)\n",
    "print('test1 accuracy',accuracy_score(y_test1,y_pred))\n",
    "print()\n",
    "print(cm2)\n",
    "P2=accuracy_score(y_test2,y_pred2)\n",
    "print('test2 accuracy',accuracy_score(y_test2,y_pred2))\n",
    "print()\n",
    "print('classification_report:')\n",
    "print()\n",
    "from sklearn.metrics import classification_report\n",
    "report = classification_report(y_test1, y_pred)\n",
    "print('test1',report)\n",
    "report = classification_report(y_test2, y_pred2)\n",
    "print('test2',report)\n"
   ]
  },
  {
   "cell_type": "markdown",
   "metadata": {},
   "source": [
    "**Test2 trainden az doğruluk oranı verdi, underfitting oldu. Son denememde oerfitting oldu."
   ]
  },
  {
   "cell_type": "markdown",
   "metadata": {},
   "source": [
    "# TRAIN-TEST1 (accuracy)"
   ]
  },
  {
   "cell_type": "markdown",
   "metadata": {},
   "source": [
    "**Algoritmaların doğruluk oranlarını tablo halinde listelendi ve performans sıralaması yapıldı."
   ]
  },
  {
   "cell_type": "code",
   "execution_count": 77,
   "metadata": {},
   "outputs": [
    {
     "data": {
      "text/html": [
       "<div>\n",
       "<style scoped>\n",
       "    .dataframe tbody tr th:only-of-type {\n",
       "        vertical-align: middle;\n",
       "    }\n",
       "\n",
       "    .dataframe tbody tr th {\n",
       "        vertical-align: top;\n",
       "    }\n",
       "\n",
       "    .dataframe thead th {\n",
       "        text-align: right;\n",
       "    }\n",
       "</style>\n",
       "<table border=\"1\" class=\"dataframe\">\n",
       "  <thead>\n",
       "    <tr style=\"text-align: right;\">\n",
       "      <th></th>\n",
       "      <th>Model</th>\n",
       "      <th>Score</th>\n",
       "    </tr>\n",
       "  </thead>\n",
       "  <tbody>\n",
       "    <tr>\n",
       "      <th>6</th>\n",
       "      <td>Kernelized Support Vector</td>\n",
       "      <td>0.978612</td>\n",
       "    </tr>\n",
       "    <tr>\n",
       "      <th>0</th>\n",
       "      <td>Logistic Regression</td>\n",
       "      <td>0.977861</td>\n",
       "    </tr>\n",
       "    <tr>\n",
       "      <th>1</th>\n",
       "      <td>Naive Bayes</td>\n",
       "      <td>0.977111</td>\n",
       "    </tr>\n",
       "    <tr>\n",
       "      <th>7</th>\n",
       "      <td>Perceptron</td>\n",
       "      <td>0.973358</td>\n",
       "    </tr>\n",
       "    <tr>\n",
       "      <th>3</th>\n",
       "      <td>Decision Tree</td>\n",
       "      <td>0.946341</td>\n",
       "    </tr>\n",
       "    <tr>\n",
       "      <th>4</th>\n",
       "      <td>Random Forest</td>\n",
       "      <td>0.944090</td>\n",
       "    </tr>\n",
       "    <tr>\n",
       "      <th>2</th>\n",
       "      <td>K-Nearest Neighbors</td>\n",
       "      <td>0.943340</td>\n",
       "    </tr>\n",
       "    <tr>\n",
       "      <th>5</th>\n",
       "      <td>Gradient Boosting Machines</td>\n",
       "      <td>0.926454</td>\n",
       "    </tr>\n",
       "  </tbody>\n",
       "</table>\n",
       "</div>"
      ],
      "text/plain": [
       "                        Model     Score\n",
       "6   Kernelized Support Vector  0.978612\n",
       "0         Logistic Regression  0.977861\n",
       "1                 Naive Bayes  0.977111\n",
       "7                  Perceptron  0.973358\n",
       "3               Decision Tree  0.946341\n",
       "4               Random Forest  0.944090\n",
       "2         K-Nearest Neighbors  0.943340\n",
       "5  Gradient Boosting Machines  0.926454"
      ]
     },
     "execution_count": 77,
     "metadata": {},
     "output_type": "execute_result"
    }
   ],
   "source": [
    "models = pd.DataFrame({\n",
    "    'Model': ['Logistic Regression', 'Naive Bayes', 'K-Nearest Neighbors', \n",
    "              'Decision Tree', 'Random Forest', 'Gradient Boosting Machines', \n",
    "              'Kernelized Support Vector', 'Perceptron',],\n",
    "    'Score': [LR, NB, KNN, \n",
    "              DT, RF, GB, \n",
    "              K, P]})\n",
    "models.sort_values(by='Score', ascending=False)\n"
   ]
  },
  {
   "cell_type": "markdown",
   "metadata": {},
   "source": [
    "# TRAIN-TEST2 (accuracy)"
   ]
  },
  {
   "cell_type": "code",
   "execution_count": 78,
   "metadata": {},
   "outputs": [
    {
     "data": {
      "text/html": [
       "<div>\n",
       "<style scoped>\n",
       "    .dataframe tbody tr th:only-of-type {\n",
       "        vertical-align: middle;\n",
       "    }\n",
       "\n",
       "    .dataframe tbody tr th {\n",
       "        vertical-align: top;\n",
       "    }\n",
       "\n",
       "    .dataframe thead th {\n",
       "        text-align: right;\n",
       "    }\n",
       "</style>\n",
       "<table border=\"1\" class=\"dataframe\">\n",
       "  <thead>\n",
       "    <tr style=\"text-align: right;\">\n",
       "      <th></th>\n",
       "      <th>Model</th>\n",
       "      <th>Score</th>\n",
       "    </tr>\n",
       "  </thead>\n",
       "  <tbody>\n",
       "    <tr>\n",
       "      <th>0</th>\n",
       "      <td>Logistic Regression</td>\n",
       "      <td>0.992719</td>\n",
       "    </tr>\n",
       "    <tr>\n",
       "      <th>1</th>\n",
       "      <td>Naive Bayes</td>\n",
       "      <td>0.989643</td>\n",
       "    </tr>\n",
       "    <tr>\n",
       "      <th>6</th>\n",
       "      <td>Kernelized Support Vector</td>\n",
       "      <td>0.989336</td>\n",
       "    </tr>\n",
       "    <tr>\n",
       "      <th>7</th>\n",
       "      <td>Perceptron</td>\n",
       "      <td>0.989336</td>\n",
       "    </tr>\n",
       "    <tr>\n",
       "      <th>4</th>\n",
       "      <td>Random Forest</td>\n",
       "      <td>0.975697</td>\n",
       "    </tr>\n",
       "    <tr>\n",
       "      <th>5</th>\n",
       "      <td>Gradient Boosting Machines</td>\n",
       "      <td>0.966879</td>\n",
       "    </tr>\n",
       "    <tr>\n",
       "      <th>3</th>\n",
       "      <td>Decision Tree</td>\n",
       "      <td>0.960316</td>\n",
       "    </tr>\n",
       "    <tr>\n",
       "      <th>2</th>\n",
       "      <td>K-Nearest Neighbors</td>\n",
       "      <td>0.941448</td>\n",
       "    </tr>\n",
       "  </tbody>\n",
       "</table>\n",
       "</div>"
      ],
      "text/plain": [
       "                        Model     Score\n",
       "0         Logistic Regression  0.992719\n",
       "1                 Naive Bayes  0.989643\n",
       "6   Kernelized Support Vector  0.989336\n",
       "7                  Perceptron  0.989336\n",
       "4               Random Forest  0.975697\n",
       "5  Gradient Boosting Machines  0.966879\n",
       "3               Decision Tree  0.960316\n",
       "2         K-Nearest Neighbors  0.941448"
      ]
     },
     "execution_count": 78,
     "metadata": {},
     "output_type": "execute_result"
    }
   ],
   "source": [
    "models = pd.DataFrame({\n",
    "    'Model': ['Logistic Regression', 'Naive Bayes', 'K-Nearest Neighbors', \n",
    "              'Decision Tree', 'Random Forest', 'Gradient Boosting Machines', \n",
    "              'Kernelized Support Vector', 'Perceptron',],\n",
    "    'Score': [LR2, NB2, KNN2, \n",
    "              DT2, RF2, GB2, \n",
    "              K2, P2]})\n",
    "models.sort_values(by='Score', ascending=False)"
   ]
  },
  {
   "cell_type": "markdown",
   "metadata": {},
   "source": [
    "# FEATURE EKLEME-ÇIKARMA (sonuçlardaki etkisi)"
   ]
  },
  {
   "cell_type": "code",
   "execution_count": 79,
   "metadata": {},
   "outputs": [
    {
     "name": "stdout",
     "output_type": "stream",
     "text": [
      "   Temperature  Humidity  Light     CO2  HumidityRatio  Occupancy\n",
      "1        23.18   27.2720  426.0  721.25       0.004793          1\n",
      "2        23.15   27.2675  429.5  714.00       0.004783          1\n",
      "3        23.15   27.2450  426.0  713.50       0.004779          1\n",
      "4        23.15   27.2000  426.0  708.25       0.004772          1\n",
      "5        23.10   27.2000  426.0  704.50       0.004757          1\n",
      "     Temperature  Humidity       Light         CO2  HumidityRatio  Occupancy\n",
      "140      23.7000    26.272  585.200000  749.200000       0.004764          1\n",
      "141      23.7180    26.290  578.400000  760.400000       0.004773          1\n",
      "142      23.7300    26.230  572.666667  769.666667       0.004765          1\n",
      "143      23.7225    26.125  493.750000  774.750000       0.004744          1\n",
      "144      23.7540    26.200  488.600000  779.000000       0.004767          1\n",
      "   Temperature   Humidity       Light          CO2  HumidityRatio  Occupancy\n",
      "1      21.7600  31.133333  437.333333  1029.666667       0.005021          1\n",
      "2      21.7900  31.000000  437.333333  1000.000000       0.005009          1\n",
      "3      21.7675  31.122500  434.000000  1003.750000       0.005022          1\n",
      "4      21.7675  31.122500  439.000000  1009.500000       0.005022          1\n",
      "5      21.7900  31.133333  437.333333  1005.666667       0.005030          1\n"
     ]
    }
   ],
   "source": [
    "print(trainset.head())\n",
    "print(testset.head())\n",
    "print(testset2.head())"
   ]
  },
  {
   "cell_type": "code",
   "execution_count": 80,
   "metadata": {},
   "outputs": [
    {
     "data": {
      "text/html": [
       "<div>\n",
       "<style scoped>\n",
       "    .dataframe tbody tr th:only-of-type {\n",
       "        vertical-align: middle;\n",
       "    }\n",
       "\n",
       "    .dataframe tbody tr th {\n",
       "        vertical-align: top;\n",
       "    }\n",
       "\n",
       "    .dataframe thead th {\n",
       "        text-align: right;\n",
       "    }\n",
       "</style>\n",
       "<table border=\"1\" class=\"dataframe\">\n",
       "  <thead>\n",
       "    <tr style=\"text-align: right;\">\n",
       "      <th></th>\n",
       "      <th>Temperature</th>\n",
       "      <th>Humidity</th>\n",
       "      <th>Light</th>\n",
       "      <th>CO2</th>\n",
       "      <th>HumidityRatio</th>\n",
       "      <th>Occupancy</th>\n",
       "    </tr>\n",
       "  </thead>\n",
       "  <tbody>\n",
       "    <tr>\n",
       "      <th>Temperature</th>\n",
       "      <td>1.000000</td>\n",
       "      <td>-0.141759</td>\n",
       "      <td>0.649942</td>\n",
       "      <td>0.559894</td>\n",
       "      <td>0.151762</td>\n",
       "      <td>0.538220</td>\n",
       "    </tr>\n",
       "    <tr>\n",
       "      <th>Humidity</th>\n",
       "      <td>-0.141759</td>\n",
       "      <td>1.000000</td>\n",
       "      <td>0.037828</td>\n",
       "      <td>0.439023</td>\n",
       "      <td>0.955198</td>\n",
       "      <td>0.132964</td>\n",
       "    </tr>\n",
       "    <tr>\n",
       "      <th>Light</th>\n",
       "      <td>0.649942</td>\n",
       "      <td>0.037828</td>\n",
       "      <td>1.000000</td>\n",
       "      <td>0.664022</td>\n",
       "      <td>0.230420</td>\n",
       "      <td>0.907352</td>\n",
       "    </tr>\n",
       "    <tr>\n",
       "      <th>CO2</th>\n",
       "      <td>0.559894</td>\n",
       "      <td>0.439023</td>\n",
       "      <td>0.664022</td>\n",
       "      <td>1.000000</td>\n",
       "      <td>0.626556</td>\n",
       "      <td>0.712235</td>\n",
       "    </tr>\n",
       "    <tr>\n",
       "      <th>HumidityRatio</th>\n",
       "      <td>0.151762</td>\n",
       "      <td>0.955198</td>\n",
       "      <td>0.230420</td>\n",
       "      <td>0.626556</td>\n",
       "      <td>1.000000</td>\n",
       "      <td>0.300282</td>\n",
       "    </tr>\n",
       "    <tr>\n",
       "      <th>Occupancy</th>\n",
       "      <td>0.538220</td>\n",
       "      <td>0.132964</td>\n",
       "      <td>0.907352</td>\n",
       "      <td>0.712235</td>\n",
       "      <td>0.300282</td>\n",
       "      <td>1.000000</td>\n",
       "    </tr>\n",
       "  </tbody>\n",
       "</table>\n",
       "</div>"
      ],
      "text/plain": [
       "               Temperature  Humidity     Light       CO2  HumidityRatio  \\\n",
       "Temperature       1.000000 -0.141759  0.649942  0.559894       0.151762   \n",
       "Humidity         -0.141759  1.000000  0.037828  0.439023       0.955198   \n",
       "Light             0.649942  0.037828  1.000000  0.664022       0.230420   \n",
       "CO2               0.559894  0.439023  0.664022  1.000000       0.626556   \n",
       "HumidityRatio     0.151762  0.955198  0.230420  0.626556       1.000000   \n",
       "Occupancy         0.538220  0.132964  0.907352  0.712235       0.300282   \n",
       "\n",
       "               Occupancy  \n",
       "Temperature     0.538220  \n",
       "Humidity        0.132964  \n",
       "Light           0.907352  \n",
       "CO2             0.712235  \n",
       "HumidityRatio   0.300282  \n",
       "Occupancy       1.000000  "
      ]
     },
     "execution_count": 80,
     "metadata": {},
     "output_type": "execute_result"
    }
   ],
   "source": [
    "trainset.corr()"
   ]
  },
  {
   "cell_type": "markdown",
   "metadata": {},
   "source": [
    "**HumidityRatio ve Humidity korelasyonu 0.95 yüksek çıktığı için HumidityRatio silindi.\n",
    "daha sonra tekrar ekledim çünkü bu özelliği kullanara yeni özellik oluşturdum."
   ]
  },
  {
   "cell_type": "code",
   "execution_count": 81,
   "metadata": {},
   "outputs": [
    {
     "data": {
      "text/plain": [
       "\"trainset=trainset.drop(columns=['HumidityRatio'])\\ntestset=testset.drop(columns=['HumidityRatio'])\\ntestset2=testset2.drop(columns=['HumidityRatio'])\\nprint(trainset.head()) \""
      ]
     },
     "execution_count": 81,
     "metadata": {},
     "output_type": "execute_result"
    }
   ],
   "source": [
    "'''trainset=trainset.drop(columns=['HumidityRatio'])\n",
    "testset=testset.drop(columns=['HumidityRatio'])\n",
    "testset2=testset2.drop(columns=['HumidityRatio'])\n",
    "print(trainset.head()) '''"
   ]
  },
  {
   "cell_type": "markdown",
   "metadata": {},
   "source": [
    "**Feature engineering ile özellik ekleme\n",
    "az etkili özellikleri çarparak yeni özellik oluşturuldu."
   ]
  },
  {
   "cell_type": "code",
   "execution_count": 82,
   "metadata": {},
   "outputs": [
    {
     "data": {
      "text/html": [
       "<div>\n",
       "<style scoped>\n",
       "    .dataframe tbody tr th:only-of-type {\n",
       "        vertical-align: middle;\n",
       "    }\n",
       "\n",
       "    .dataframe tbody tr th {\n",
       "        vertical-align: top;\n",
       "    }\n",
       "\n",
       "    .dataframe thead th {\n",
       "        text-align: right;\n",
       "    }\n",
       "</style>\n",
       "<table border=\"1\" class=\"dataframe\">\n",
       "  <thead>\n",
       "    <tr style=\"text-align: right;\">\n",
       "      <th></th>\n",
       "      <th>Temperature</th>\n",
       "      <th>Humidity</th>\n",
       "      <th>Light</th>\n",
       "      <th>CO2</th>\n",
       "      <th>HumidityRatio</th>\n",
       "      <th>Occupancy</th>\n",
       "      <th>HC</th>\n",
       "    </tr>\n",
       "  </thead>\n",
       "  <tbody>\n",
       "    <tr>\n",
       "      <th>1</th>\n",
       "      <td>23.18</td>\n",
       "      <td>27.2720</td>\n",
       "      <td>426.0</td>\n",
       "      <td>721.25</td>\n",
       "      <td>0.004793</td>\n",
       "      <td>1</td>\n",
       "      <td>3.456943</td>\n",
       "    </tr>\n",
       "    <tr>\n",
       "      <th>2</th>\n",
       "      <td>23.15</td>\n",
       "      <td>27.2675</td>\n",
       "      <td>429.5</td>\n",
       "      <td>714.00</td>\n",
       "      <td>0.004783</td>\n",
       "      <td>1</td>\n",
       "      <td>3.415377</td>\n",
       "    </tr>\n",
       "    <tr>\n",
       "      <th>3</th>\n",
       "      <td>23.15</td>\n",
       "      <td>27.2450</td>\n",
       "      <td>426.0</td>\n",
       "      <td>713.50</td>\n",
       "      <td>0.004779</td>\n",
       "      <td>1</td>\n",
       "      <td>3.410147</td>\n",
       "    </tr>\n",
       "    <tr>\n",
       "      <th>4</th>\n",
       "      <td>23.15</td>\n",
       "      <td>27.2000</td>\n",
       "      <td>426.0</td>\n",
       "      <td>708.25</td>\n",
       "      <td>0.004772</td>\n",
       "      <td>1</td>\n",
       "      <td>3.379421</td>\n",
       "    </tr>\n",
       "    <tr>\n",
       "      <th>5</th>\n",
       "      <td>23.10</td>\n",
       "      <td>27.2000</td>\n",
       "      <td>426.0</td>\n",
       "      <td>704.50</td>\n",
       "      <td>0.004757</td>\n",
       "      <td>1</td>\n",
       "      <td>3.351302</td>\n",
       "    </tr>\n",
       "  </tbody>\n",
       "</table>\n",
       "</div>"
      ],
      "text/plain": [
       "   Temperature  Humidity  Light     CO2  HumidityRatio  Occupancy        HC\n",
       "1        23.18   27.2720  426.0  721.25       0.004793          1  3.456943\n",
       "2        23.15   27.2675  429.5  714.00       0.004783          1  3.415377\n",
       "3        23.15   27.2450  426.0  713.50       0.004779          1  3.410147\n",
       "4        23.15   27.2000  426.0  708.25       0.004772          1  3.379421\n",
       "5        23.10   27.2000  426.0  704.50       0.004757          1  3.351302"
      ]
     },
     "execution_count": 82,
     "metadata": {},
     "output_type": "execute_result"
    }
   ],
   "source": [
    "trainset = trainset.assign(HC=trainset['HumidityRatio']*trainset['CO2'])\n",
    "testset = testset.assign(HC=testset['HumidityRatio']*testset['CO2'])\n",
    "testset2 = testset2.assign(HC=testset2['HumidityRatio']*testset2['CO2'])\n",
    "trainset.head()"
   ]
  },
  {
   "cell_type": "code",
   "execution_count": 83,
   "metadata": {},
   "outputs": [
    {
     "data": {
      "text/html": [
       "<div>\n",
       "<style scoped>\n",
       "    .dataframe tbody tr th:only-of-type {\n",
       "        vertical-align: middle;\n",
       "    }\n",
       "\n",
       "    .dataframe tbody tr th {\n",
       "        vertical-align: top;\n",
       "    }\n",
       "\n",
       "    .dataframe thead th {\n",
       "        text-align: right;\n",
       "    }\n",
       "</style>\n",
       "<table border=\"1\" class=\"dataframe\">\n",
       "  <thead>\n",
       "    <tr style=\"text-align: right;\">\n",
       "      <th></th>\n",
       "      <th>Temperature</th>\n",
       "      <th>Humidity</th>\n",
       "      <th>Light</th>\n",
       "      <th>CO2</th>\n",
       "      <th>HumidityRatio</th>\n",
       "      <th>Occupancy</th>\n",
       "      <th>HC</th>\n",
       "    </tr>\n",
       "  </thead>\n",
       "  <tbody>\n",
       "    <tr>\n",
       "      <th>Temperature</th>\n",
       "      <td>1.000000</td>\n",
       "      <td>-0.141759</td>\n",
       "      <td>0.649942</td>\n",
       "      <td>0.559894</td>\n",
       "      <td>0.151762</td>\n",
       "      <td>0.538220</td>\n",
       "      <td>0.454037</td>\n",
       "    </tr>\n",
       "    <tr>\n",
       "      <th>Humidity</th>\n",
       "      <td>-0.141759</td>\n",
       "      <td>1.000000</td>\n",
       "      <td>0.037828</td>\n",
       "      <td>0.439023</td>\n",
       "      <td>0.955198</td>\n",
       "      <td>0.132964</td>\n",
       "      <td>0.600932</td>\n",
       "    </tr>\n",
       "    <tr>\n",
       "      <th>Light</th>\n",
       "      <td>0.649942</td>\n",
       "      <td>0.037828</td>\n",
       "      <td>1.000000</td>\n",
       "      <td>0.664022</td>\n",
       "      <td>0.230420</td>\n",
       "      <td>0.907352</td>\n",
       "      <td>0.537944</td>\n",
       "    </tr>\n",
       "    <tr>\n",
       "      <th>CO2</th>\n",
       "      <td>0.559894</td>\n",
       "      <td>0.439023</td>\n",
       "      <td>0.664022</td>\n",
       "      <td>1.000000</td>\n",
       "      <td>0.626556</td>\n",
       "      <td>0.712235</td>\n",
       "      <td>0.969634</td>\n",
       "    </tr>\n",
       "    <tr>\n",
       "      <th>HumidityRatio</th>\n",
       "      <td>0.151762</td>\n",
       "      <td>0.955198</td>\n",
       "      <td>0.230420</td>\n",
       "      <td>0.626556</td>\n",
       "      <td>1.000000</td>\n",
       "      <td>0.300282</td>\n",
       "      <td>0.757154</td>\n",
       "    </tr>\n",
       "    <tr>\n",
       "      <th>Occupancy</th>\n",
       "      <td>0.538220</td>\n",
       "      <td>0.132964</td>\n",
       "      <td>0.907352</td>\n",
       "      <td>0.712235</td>\n",
       "      <td>0.300282</td>\n",
       "      <td>1.000000</td>\n",
       "      <td>0.594762</td>\n",
       "    </tr>\n",
       "    <tr>\n",
       "      <th>HC</th>\n",
       "      <td>0.454037</td>\n",
       "      <td>0.600932</td>\n",
       "      <td>0.537944</td>\n",
       "      <td>0.969634</td>\n",
       "      <td>0.757154</td>\n",
       "      <td>0.594762</td>\n",
       "      <td>1.000000</td>\n",
       "    </tr>\n",
       "  </tbody>\n",
       "</table>\n",
       "</div>"
      ],
      "text/plain": [
       "               Temperature  Humidity     Light       CO2  HumidityRatio  \\\n",
       "Temperature       1.000000 -0.141759  0.649942  0.559894       0.151762   \n",
       "Humidity         -0.141759  1.000000  0.037828  0.439023       0.955198   \n",
       "Light             0.649942  0.037828  1.000000  0.664022       0.230420   \n",
       "CO2               0.559894  0.439023  0.664022  1.000000       0.626556   \n",
       "HumidityRatio     0.151762  0.955198  0.230420  0.626556       1.000000   \n",
       "Occupancy         0.538220  0.132964  0.907352  0.712235       0.300282   \n",
       "HC                0.454037  0.600932  0.537944  0.969634       0.757154   \n",
       "\n",
       "               Occupancy        HC  \n",
       "Temperature     0.538220  0.454037  \n",
       "Humidity        0.132964  0.600932  \n",
       "Light           0.907352  0.537944  \n",
       "CO2             0.712235  0.969634  \n",
       "HumidityRatio   0.300282  0.757154  \n",
       "Occupancy       1.000000  0.594762  \n",
       "HC              0.594762  1.000000  "
      ]
     },
     "execution_count": 83,
     "metadata": {},
     "output_type": "execute_result"
    }
   ],
   "source": [
    "trainset.corr()"
   ]
  },
  {
   "cell_type": "code",
   "execution_count": 84,
   "metadata": {},
   "outputs": [],
   "source": [
    "X_train =  trainset.drop(\"Occupancy\",1).values\n",
    "y_train =  trainset['Occupancy'].values\n",
    "X_test1 = testset.drop(\"Occupancy\",1).values\n",
    "y_test1 = testset['Occupancy'].values\n",
    "X_test2 = testset2.drop(\"Occupancy\",1).values\n",
    "y_test2 = testset2['Occupancy'].values"
   ]
  },
  {
   "cell_type": "code",
   "execution_count": 85,
   "metadata": {},
   "outputs": [
    {
     "name": "stdout",
     "output_type": "stream",
     "text": [
      "train accuracy 0.9861230504727987\n",
      "[[1639   54]\n",
      " [   3  969]]\n",
      "test1 accuracy 0.9786116322701689\n",
      "[[7374  329]\n",
      " [  30 2019]]\n",
      "test2 accuracy 0.9631870385561936\n",
      "test1              precision    recall  f1-score   support\n",
      "\n",
      "          0       1.00      0.97      0.98      1693\n",
      "          1       0.95      1.00      0.97       972\n",
      "\n",
      "avg / total       0.98      0.98      0.98      2665\n",
      "\n",
      "test2              precision    recall  f1-score   support\n",
      "\n",
      "          0       1.00      0.96      0.98      7703\n",
      "          1       0.86      0.99      0.92      2049\n",
      "\n",
      "avg / total       0.97      0.96      0.96      9752\n",
      "\n"
     ]
    }
   ],
   "source": [
    "from sklearn.linear_model import LogisticRegression\n",
    "clf = LogisticRegression(random_state = 0)\n",
    "clf.fit(X_train,y_train)\n",
    "print('train accuracy',clf.score(X_train,y_train))\n",
    "y_pred = clf.predict(X_test1)\n",
    "y_pred2 = clf.predict(X_test2)\n",
    "from sklearn.metrics import confusion_matrix,accuracy_score\n",
    "\n",
    "cm = confusion_matrix(y_test1,y_pred)\n",
    "cm2 = confusion_matrix(y_test2,y_pred2)\n",
    "\n",
    "print(cm)\n",
    "LR=accuracy_score(y_test1,y_pred)\n",
    "print('test1 accuracy',accuracy_score(y_test1,y_pred))\n",
    "\n",
    "print(cm2)\n",
    "LR2=accuracy_score(y_test2,y_pred2)\n",
    "print('test2 accuracy',accuracy_score(y_test2,y_pred2))\n",
    "from sklearn.metrics import classification_report\n",
    "report = classification_report(y_test1, y_pred)\n",
    "print('test1',report)\n",
    "report = classification_report(y_test2, y_pred2)\n",
    "print('test2',report)\n"
   ]
  },
  {
   "cell_type": "code",
   "execution_count": 86,
   "metadata": {},
   "outputs": [
    {
     "name": "stdout",
     "output_type": "stream",
     "text": [
      "train accuracy 0.9786319538253715\n",
      "\n",
      "[[1638   55]\n",
      " [   5  967]]\n",
      "\n",
      "test1 accuracy 0.9774859287054409\n",
      "[[7595  108]\n",
      " [  15 2034]]\n",
      "test2 accuracy 0.9873872026251025\n",
      "\n",
      "classification_report:\n",
      "\n",
      "test1              precision    recall  f1-score   support\n",
      "\n",
      "          0       1.00      0.97      0.98      1693\n",
      "          1       0.95      0.99      0.97       972\n",
      "\n",
      "avg / total       0.98      0.98      0.98      2665\n",
      "\n",
      "test2              precision    recall  f1-score   support\n",
      "\n",
      "          0       1.00      0.99      0.99      7703\n",
      "          1       0.95      0.99      0.97      2049\n",
      "\n",
      "avg / total       0.99      0.99      0.99      9752\n",
      "\n"
     ]
    }
   ],
   "source": [
    "from sklearn.naive_bayes import GaussianNB\n",
    "clf = GaussianNB()\n",
    "clf.fit(X_train, y_train)\n",
    "print('train accuracy',clf.score(X_train,y_train))\n",
    "\n",
    "print()\n",
    "\n",
    "y_pred = clf.predict(X_test1)\n",
    "y_pred2 = clf.predict(X_test2)\n",
    "from sklearn.metrics import confusion_matrix,accuracy_score\n",
    "cm = confusion_matrix(y_test1,y_pred)\n",
    "cm2 = confusion_matrix(y_test2,y_pred2)\n",
    "print(cm)\n",
    "\n",
    "\n",
    "print()\n",
    "\n",
    "NB=accuracy_score(y_test1,y_pred)\n",
    "print('test1 accuracy',accuracy_score(y_test1,y_pred))\n",
    "print(cm2)\n",
    "NB2=accuracy_score(y_test2,y_pred2)\n",
    "print('test2 accuracy',accuracy_score(y_test2,y_pred2))\n",
    "\n",
    "from sklearn.metrics import classification_report\n",
    "report = classification_report(y_test1, y_pred)\n",
    "print()\n",
    "print('classification_report:')\n",
    "print()\n",
    "print('test1',report)\n",
    "report = classification_report(y_test2, y_pred2)\n",
    "print('test2',report)\n"
   ]
  },
  {
   "cell_type": "code",
   "execution_count": 87,
   "metadata": {},
   "outputs": [
    {
     "name": "stdout",
     "output_type": "stream",
     "text": [
      "train accuracy 0.9884563428711777\n",
      "\n",
      "[[1639   54]\n",
      " [   2  970]]\n",
      "[[7424  279]\n",
      " [   7 2042]]\n",
      "\n",
      "test1 accuracy 0.9789868667917448\n",
      "test2 accuracy 0.9706726825266612\n",
      "\n",
      "classification_report:\n",
      "\n",
      "test1              precision    recall  f1-score   support\n",
      "\n",
      "          0       1.00      0.97      0.98      1693\n",
      "          1       0.95      1.00      0.97       972\n",
      "\n",
      "avg / total       0.98      0.98      0.98      2665\n",
      "\n",
      "test2              precision    recall  f1-score   support\n",
      "\n",
      "          0       1.00      0.96      0.98      7703\n",
      "          1       0.88      1.00      0.93      2049\n",
      "\n",
      "avg / total       0.97      0.97      0.97      9752\n",
      "\n"
     ]
    }
   ],
   "source": [
    "from sklearn.neighbors import KNeighborsClassifier\n",
    "clf = KNeighborsClassifier(n_neighbors=25)\n",
    "clf.fit(X_train, y_train)\n",
    "print('train accuracy',clf.score(X_train,y_train))\n",
    "\n",
    "print()\n",
    "\n",
    "y_pred = clf.predict(X_test1)\n",
    "y_pred2 = clf.predict(X_test2)\n",
    "from sklearn.metrics import confusion_matrix,accuracy_score\n",
    "cm = confusion_matrix(y_test1,y_pred)\n",
    "cm2 = confusion_matrix(y_test2,y_pred2)\n",
    "print(cm)\n",
    "print(cm2)\n",
    "\n",
    "print()\n",
    "\n",
    "KNN=accuracy_score(y_test1,y_pred)\n",
    "print('test1 accuracy',accuracy_score(y_test1,y_pred))\n",
    "KNN2=accuracy_score(y_test2,y_pred2)\n",
    "print('test2 accuracy',accuracy_score(y_test2,y_pred2))\n",
    "\n",
    "from sklearn.metrics import classification_report\n",
    "report = classification_report(y_test1, y_pred)\n",
    "print()\n",
    "print('classification_report:')\n",
    "print()\n",
    "print('test1',report)\n",
    "report = classification_report(y_test2, y_pred2)\n",
    "print('test2',report)"
   ]
  },
  {
   "cell_type": "code",
   "execution_count": 88,
   "metadata": {},
   "outputs": [
    {
     "name": "stdout",
     "output_type": "stream",
     "text": [
      "train accuracy 1.0\n",
      "\n",
      "[[1638   55]\n",
      " [ 127  845]]\n",
      "test1 accuracy 0.9317073170731708\n",
      "\n",
      "[[7390  313]\n",
      " [ 324 1725]]\n",
      "test2 accuracy 0.9346800656275636\n",
      "\n",
      "classification_report:\n",
      "\n",
      "test1              precision    recall  f1-score   support\n",
      "\n",
      "          0       0.93      0.97      0.95      1693\n",
      "          1       0.94      0.87      0.90       972\n",
      "\n",
      "avg / total       0.93      0.93      0.93      2665\n",
      "\n",
      "test2              precision    recall  f1-score   support\n",
      "\n",
      "          0       0.96      0.96      0.96      7703\n",
      "          1       0.85      0.84      0.84      2049\n",
      "\n",
      "avg / total       0.93      0.93      0.93      9752\n",
      "\n"
     ]
    }
   ],
   "source": [
    "from sklearn.tree import DecisionTreeClassifier  \n",
    "clf = DecisionTreeClassifier()  \n",
    "clf.fit(X_train, y_train) \n",
    "print('train accuracy',clf.score(X_train,y_train))\n",
    "print()\n",
    "y_pred = clf.predict(X_test1)\n",
    "y_pred2 = clf.predict(X_test2)\n",
    "from sklearn.metrics import confusion_matrix,accuracy_score\n",
    "cm = confusion_matrix(y_test1,y_pred)\n",
    "cm2 = confusion_matrix(y_test2,y_pred2)\n",
    "print(cm)\n",
    "\n",
    "DT=accuracy_score(y_test1,y_pred)\n",
    "print('test1 accuracy',accuracy_score(y_test1,y_pred))\n",
    "print()\n",
    "DT2=accuracy_score(y_test2,y_pred2)\n",
    "print(cm2)\n",
    "print('test2 accuracy',accuracy_score(y_test2,y_pred2))\n",
    "from sklearn.metrics import classification_report\n",
    "report = classification_report(y_test1, y_pred)\n",
    "print()\n",
    "print('classification_report:')\n",
    "print()\n",
    "print('test1',report)\n",
    "report = classification_report(y_test2, y_pred2)\n",
    "print('test2',report)"
   ]
  },
  {
   "cell_type": "code",
   "execution_count": 89,
   "metadata": {},
   "outputs": [
    {
     "name": "stdout",
     "output_type": "stream",
     "text": [
      "train accuracy 1.0\n",
      "\n",
      "[[1638   55]\n",
      " [  54  918]]\n",
      "test1 accuracy 0.9590994371482177\n",
      "\n",
      "[[7420  283]\n",
      " [  36 2013]]\n",
      "test2 accuracy 0.9672887612797375\n",
      "\n",
      "classification_report:\n",
      "\n",
      "test1              precision    recall  f1-score   support\n",
      "\n",
      "          0       0.97      0.97      0.97      1693\n",
      "          1       0.94      0.94      0.94       972\n",
      "\n",
      "avg / total       0.96      0.96      0.96      2665\n",
      "\n",
      "test2              precision    recall  f1-score   support\n",
      "\n",
      "          0       1.00      0.96      0.98      7703\n",
      "          1       0.88      0.98      0.93      2049\n",
      "\n",
      "avg / total       0.97      0.97      0.97      9752\n",
      "\n"
     ]
    }
   ],
   "source": [
    "from sklearn.ensemble import RandomForestClassifier\n",
    "clf=RandomForestClassifier(n_estimators=100, random_state=0)\n",
    "clf.fit(X_train, y_train) \n",
    "print('train accuracy',clf.score(X_train,y_train))\n",
    "print()\n",
    "y_pred = clf.predict(X_test1)\n",
    "y_pred2 = clf.predict(X_test2)\n",
    "from sklearn.metrics import confusion_matrix,accuracy_score\n",
    "cm = confusion_matrix(y_test1,y_pred)\n",
    "cm2 = confusion_matrix(y_test2,y_pred2)\n",
    "print(cm)\n",
    "\n",
    "RF=accuracy_score(y_test1,y_pred)\n",
    "print('test1 accuracy',accuracy_score(y_test1,y_pred))\n",
    "print()\n",
    "print(cm2)\n",
    "\n",
    "RF2=accuracy_score(y_test2,y_pred2)\n",
    "print('test2 accuracy',accuracy_score(y_test2,y_pred2))\n",
    "print()\n",
    "print('classification_report:')\n",
    "print()\n",
    "from sklearn.metrics import classification_report\n",
    "report = classification_report(y_test1, y_pred)\n",
    "print('test1',report)\n",
    "\n",
    "report = classification_report(y_test2, y_pred2)\n",
    "print('test2',report)"
   ]
  },
  {
   "cell_type": "code",
   "execution_count": 90,
   "metadata": {},
   "outputs": [
    {
     "name": "stdout",
     "output_type": "stream",
     "text": [
      "train accuracy 0.9977895124646936\n",
      "\n",
      "[[1644   49]\n",
      " [ 116  856]]\n",
      "test1 accuracy 0.9380863039399625\n",
      "\n",
      "test2 accuracy 0.9506767842493847\n",
      "\n",
      "classification_report:\n",
      "\n",
      "test1              precision    recall  f1-score   support\n",
      "\n",
      "          0       0.93      0.97      0.95      1693\n",
      "          1       0.95      0.88      0.91       972\n",
      "\n",
      "avg / total       0.94      0.94      0.94      2665\n",
      "\n",
      "test2              precision    recall  f1-score   support\n",
      "\n",
      "          0       0.95      0.99      0.97      7703\n",
      "          1       0.95      0.81      0.87      2049\n",
      "\n",
      "avg / total       0.95      0.95      0.95      9752\n",
      "\n"
     ]
    }
   ],
   "source": [
    "from sklearn.ensemble import GradientBoostingClassifier\n",
    "clf=GradientBoostingClassifier()\n",
    "clf.fit(X_train, y_train) \n",
    "print('train accuracy',clf.score(X_train,y_train))\n",
    "print()\n",
    "y_pred = clf.predict(X_test1)\n",
    "y_pred2 = clf.predict(X_test2)\n",
    "from sklearn.metrics import confusion_matrix,accuracy_score\n",
    "cm = confusion_matrix(y_test1,y_pred)\n",
    "cm2 = confusion_matrix(y_test2,y_pred2)\n",
    "print(cm)\n",
    "GB=accuracy_score(y_test1,y_pred)\n",
    "print('test1 accuracy',accuracy_score(y_test1,y_pred))\n",
    "print()\n",
    "GB2=accuracy_score(y_test2,y_pred2)\n",
    "print('test2 accuracy',accuracy_score(y_test2,y_pred2))\n",
    "print()\n",
    "print('classification_report:')\n",
    "print()\n",
    "from sklearn.metrics import classification_report\n",
    "report = classification_report(y_test1, y_pred)\n",
    "print('test1',report)\n",
    "report = classification_report(y_test2, y_pred2)\n",
    "print('test2',report)"
   ]
  },
  {
   "cell_type": "code",
   "execution_count": 91,
   "metadata": {},
   "outputs": [
    {
     "name": "stdout",
     "output_type": "stream",
     "text": [
      "train accuracy 0.9863686601989439\n",
      "\n",
      "[[1639   54]\n",
      " [   3  969]]\n",
      "test1 accuracy 0.9786116322701689\n",
      "\n",
      "[[7633   70]\n",
      " [  14 2035]]\n",
      "test2 accuracy 0.9913863822805579\n",
      "\n",
      "classification_report:\n",
      "\n",
      "test1              precision    recall  f1-score   support\n",
      "\n",
      "          0       1.00      0.97      0.98      1693\n",
      "          1       0.95      1.00      0.97       972\n",
      "\n",
      "avg / total       0.98      0.98      0.98      2665\n",
      "\n",
      "test2              precision    recall  f1-score   support\n",
      "\n",
      "          0       1.00      0.99      0.99      7703\n",
      "          1       0.97      0.99      0.98      2049\n",
      "\n",
      "avg / total       0.99      0.99      0.99      9752\n",
      "\n"
     ]
    }
   ],
   "source": [
    "from sklearn.svm import SVC\n",
    "clf = SVC(kernel='linear', random_state = 0)\n",
    "clf.fit(X_train, y_train)\n",
    "print('train accuracy',clf.score(X_train,y_train))\n",
    "print()\n",
    "y_pred = clf.predict(X_test1)\n",
    "y_pred2 = clf.predict(X_test2)\n",
    "from sklearn.metrics import confusion_matrix,accuracy_score\n",
    "cm = confusion_matrix(y_test1,y_pred)\n",
    "cm2 = confusion_matrix(y_test2,y_pred2)\n",
    "print(cm)\n",
    "K=accuracy_score(y_test1,y_pred)\n",
    "print('test1 accuracy',accuracy_score(y_test1,y_pred))\n",
    "print()\n",
    "print(cm2)\n",
    "K2=accuracy_score(y_test2,y_pred2)\n",
    "print('test2 accuracy',accuracy_score(y_test2,y_pred2))\n",
    "print()\n",
    "print('classification_report:')\n",
    "print()\n",
    "from sklearn.metrics import classification_report\n",
    "report = classification_report(y_test1, y_pred)\n",
    "print('test1',report)\n",
    "report = classification_report(y_test2, y_pred2)\n",
    "print('test2',report)"
   ]
  },
  {
   "cell_type": "code",
   "execution_count": 92,
   "metadata": {},
   "outputs": [
    {
     "name": "stdout",
     "output_type": "stream",
     "text": [
      "train accuracy 0.9707724425887265\n",
      "\n",
      "[[1647   46]\n",
      " [  79  893]]\n",
      "test1 accuracy 0.9530956848030019\n",
      "\n",
      "[[7633   70]\n",
      " [  14 2035]]\n",
      "test2 accuracy 0.9913863822805579\n",
      "\n",
      "classification_report:\n",
      "\n",
      "test1              precision    recall  f1-score   support\n",
      "\n",
      "          0       0.95      0.97      0.96      1693\n",
      "          1       0.95      0.92      0.93       972\n",
      "\n",
      "avg / total       0.95      0.95      0.95      2665\n",
      "\n",
      "test2              precision    recall  f1-score   support\n",
      "\n",
      "          0       1.00      0.99      0.99      7703\n",
      "          1       0.97      0.99      0.98      2049\n",
      "\n",
      "avg / total       0.99      0.99      0.99      9752\n",
      "\n"
     ]
    },
    {
     "name": "stderr",
     "output_type": "stream",
     "text": [
      "C:\\ProgramData\\Anaconda3\\lib\\site-packages\\sklearn\\linear_model\\stochastic_gradient.py:128: FutureWarning: max_iter and tol parameters have been added in <class 'sklearn.linear_model.perceptron.Perceptron'> in 0.19. If both are left unset, they default to max_iter=5 and tol=None. If tol is not None, max_iter defaults to max_iter=1000. From 0.21, default max_iter will be 1000, and default tol will be 1e-3.\n",
      "  \"and default tol will be 1e-3.\" % type(self), FutureWarning)\n"
     ]
    }
   ],
   "source": [
    "from sklearn.linear_model import Perceptron\n",
    "clf = Perceptron()\n",
    "clf.fit(X_train, y_train)\n",
    "print('train accuracy',clf.score(X_train,y_train))\n",
    "print()\n",
    "y_pred = clf.predict(X_test1)\n",
    "\n",
    "from sklearn.metrics import confusion_matrix,accuracy_score\n",
    "cm = confusion_matrix(y_test1,y_pred)\n",
    "cm2 = confusion_matrix(y_test2,y_pred2)\n",
    "print(cm)\n",
    "P=accuracy_score(y_test1,y_pred)\n",
    "print('test1 accuracy',accuracy_score(y_test1,y_pred))\n",
    "print()\n",
    "print(cm2)\n",
    "P2=accuracy_score(y_test2,y_pred2)\n",
    "print('test2 accuracy',accuracy_score(y_test2,y_pred2))\n",
    "print()\n",
    "print('classification_report:')\n",
    "print()\n",
    "from sklearn.metrics import classification_report\n",
    "report = classification_report(y_test1, y_pred)\n",
    "print('test1',report)\n",
    "report = classification_report(y_test2, y_pred2)\n",
    "print('test2',report)\n"
   ]
  },
  {
   "cell_type": "code",
   "execution_count": 93,
   "metadata": {},
   "outputs": [
    {
     "data": {
      "text/html": [
       "<div>\n",
       "<style scoped>\n",
       "    .dataframe tbody tr th:only-of-type {\n",
       "        vertical-align: middle;\n",
       "    }\n",
       "\n",
       "    .dataframe tbody tr th {\n",
       "        vertical-align: top;\n",
       "    }\n",
       "\n",
       "    .dataframe thead th {\n",
       "        text-align: right;\n",
       "    }\n",
       "</style>\n",
       "<table border=\"1\" class=\"dataframe\">\n",
       "  <thead>\n",
       "    <tr style=\"text-align: right;\">\n",
       "      <th></th>\n",
       "      <th>Model</th>\n",
       "      <th>Score</th>\n",
       "    </tr>\n",
       "  </thead>\n",
       "  <tbody>\n",
       "    <tr>\n",
       "      <th>2</th>\n",
       "      <td>K-Nearest Neighbors</td>\n",
       "      <td>0.978987</td>\n",
       "    </tr>\n",
       "    <tr>\n",
       "      <th>0</th>\n",
       "      <td>Logistic Regression</td>\n",
       "      <td>0.978612</td>\n",
       "    </tr>\n",
       "    <tr>\n",
       "      <th>6</th>\n",
       "      <td>Kernelized Support Vector</td>\n",
       "      <td>0.978612</td>\n",
       "    </tr>\n",
       "    <tr>\n",
       "      <th>1</th>\n",
       "      <td>Naive Bayes</td>\n",
       "      <td>0.977486</td>\n",
       "    </tr>\n",
       "    <tr>\n",
       "      <th>4</th>\n",
       "      <td>Random Forest</td>\n",
       "      <td>0.959099</td>\n",
       "    </tr>\n",
       "    <tr>\n",
       "      <th>7</th>\n",
       "      <td>Perceptron</td>\n",
       "      <td>0.953096</td>\n",
       "    </tr>\n",
       "    <tr>\n",
       "      <th>5</th>\n",
       "      <td>Gradient Boosting Machines</td>\n",
       "      <td>0.938086</td>\n",
       "    </tr>\n",
       "    <tr>\n",
       "      <th>3</th>\n",
       "      <td>Decision Tree</td>\n",
       "      <td>0.931707</td>\n",
       "    </tr>\n",
       "  </tbody>\n",
       "</table>\n",
       "</div>"
      ],
      "text/plain": [
       "                        Model     Score\n",
       "2         K-Nearest Neighbors  0.978987\n",
       "0         Logistic Regression  0.978612\n",
       "6   Kernelized Support Vector  0.978612\n",
       "1                 Naive Bayes  0.977486\n",
       "4               Random Forest  0.959099\n",
       "7                  Perceptron  0.953096\n",
       "5  Gradient Boosting Machines  0.938086\n",
       "3               Decision Tree  0.931707"
      ]
     },
     "execution_count": 93,
     "metadata": {},
     "output_type": "execute_result"
    }
   ],
   "source": [
    "models = pd.DataFrame({\n",
    "    'Model': ['Logistic Regression', 'Naive Bayes', 'K-Nearest Neighbors', \n",
    "              'Decision Tree', 'Random Forest', 'Gradient Boosting Machines', \n",
    "              'Kernelized Support Vector', 'Perceptron',],\n",
    "    'Score': [LR, NB, KNN, \n",
    "              DT, RF, GB, \n",
    "              K, P]})\n",
    "models.sort_values(by='Score', ascending=False)\n"
   ]
  },
  {
   "cell_type": "code",
   "execution_count": 94,
   "metadata": {},
   "outputs": [
    {
     "data": {
      "text/html": [
       "<div>\n",
       "<style scoped>\n",
       "    .dataframe tbody tr th:only-of-type {\n",
       "        vertical-align: middle;\n",
       "    }\n",
       "\n",
       "    .dataframe tbody tr th {\n",
       "        vertical-align: top;\n",
       "    }\n",
       "\n",
       "    .dataframe thead th {\n",
       "        text-align: right;\n",
       "    }\n",
       "</style>\n",
       "<table border=\"1\" class=\"dataframe\">\n",
       "  <thead>\n",
       "    <tr style=\"text-align: right;\">\n",
       "      <th></th>\n",
       "      <th>Model</th>\n",
       "      <th>Score</th>\n",
       "    </tr>\n",
       "  </thead>\n",
       "  <tbody>\n",
       "    <tr>\n",
       "      <th>6</th>\n",
       "      <td>Kernelized Support Vector</td>\n",
       "      <td>0.991386</td>\n",
       "    </tr>\n",
       "    <tr>\n",
       "      <th>7</th>\n",
       "      <td>Perceptron</td>\n",
       "      <td>0.991386</td>\n",
       "    </tr>\n",
       "    <tr>\n",
       "      <th>1</th>\n",
       "      <td>Naive Bayes</td>\n",
       "      <td>0.987387</td>\n",
       "    </tr>\n",
       "    <tr>\n",
       "      <th>2</th>\n",
       "      <td>K-Nearest Neighbors</td>\n",
       "      <td>0.970673</td>\n",
       "    </tr>\n",
       "    <tr>\n",
       "      <th>4</th>\n",
       "      <td>Random Forest</td>\n",
       "      <td>0.967289</td>\n",
       "    </tr>\n",
       "    <tr>\n",
       "      <th>0</th>\n",
       "      <td>Logistic Regression</td>\n",
       "      <td>0.963187</td>\n",
       "    </tr>\n",
       "    <tr>\n",
       "      <th>5</th>\n",
       "      <td>Gradient Boosting Machines</td>\n",
       "      <td>0.950677</td>\n",
       "    </tr>\n",
       "    <tr>\n",
       "      <th>3</th>\n",
       "      <td>Decision Tree</td>\n",
       "      <td>0.934680</td>\n",
       "    </tr>\n",
       "  </tbody>\n",
       "</table>\n",
       "</div>"
      ],
      "text/plain": [
       "                        Model     Score\n",
       "6   Kernelized Support Vector  0.991386\n",
       "7                  Perceptron  0.991386\n",
       "1                 Naive Bayes  0.987387\n",
       "2         K-Nearest Neighbors  0.970673\n",
       "4               Random Forest  0.967289\n",
       "0         Logistic Regression  0.963187\n",
       "5  Gradient Boosting Machines  0.950677\n",
       "3               Decision Tree  0.934680"
      ]
     },
     "execution_count": 94,
     "metadata": {},
     "output_type": "execute_result"
    }
   ],
   "source": [
    "models = pd.DataFrame({\n",
    "    'Model': ['Logistic Regression', 'Naive Bayes', 'K-Nearest Neighbors', \n",
    "              'Decision Tree', 'Random Forest', 'Gradient Boosting Machines', \n",
    "              'Kernelized Support Vector', 'Perceptron',],\n",
    "    'Score': [LR2, NB2, KNN2, \n",
    "              DT2, RF2, GB2, \n",
    "              K2, P2]})\n",
    "models.sort_values(by='Score', ascending=False)"
   ]
  },
  {
   "cell_type": "markdown",
   "metadata": {},
   "source": [
    "**Eklediğim feature ile Logistic regression overfit olma durumundan kurtuldu."
   ]
  },
  {
   "cell_type": "markdown",
   "metadata": {},
   "source": [
    "# SONUÇ"
   ]
  },
  {
   "cell_type": "markdown",
   "metadata": {},
   "source": [
    "**Bir odada verilen özelliklere göre oda dolu mu boş mu makine öğrenmesinde;\n",
    "-Raporda verilen dataset train ve test1, test2 eklendi\n",
    "-verilen datasetlerdeki datalar düzenlendi, boş veri var mı kontrol edildi.\n",
    "-bazı veriler histogram ile gösterildi, analizi yapıldı.\n",
    "-'date' featuresi silindi yeni 'hc' featuresi eklendi.\n",
    "-raporda verilen algoritmalar kullanıldı, yeni algoritma eklendi,\n",
    "-algoritmaların doğruluk oranları gösterildi, analizler yapıldı, overfitting,underfittin olma durumu, eklenen ve çıkarılan özelliklerin etkisi,hiperparametrik değerlerinin etkisi gözlemlendi.\n",
    "-doğruluk oranları tabloda özet şenlinde gösterildi, grafikle desteklendi.\n"
   ]
  },
  {
   "cell_type": "code",
   "execution_count": null,
   "metadata": {},
   "outputs": [],
   "source": []
  },
  {
   "cell_type": "code",
   "execution_count": null,
   "metadata": {},
   "outputs": [],
   "source": []
  }
 ],
 "metadata": {
  "kernelspec": {
   "display_name": "Python 3",
   "language": "python",
   "name": "python3"
  },
  "language_info": {
   "codemirror_mode": {
    "name": "ipython",
    "version": 3
   },
   "file_extension": ".py",
   "mimetype": "text/x-python",
   "name": "python",
   "nbconvert_exporter": "python",
   "pygments_lexer": "ipython3",
   "version": "3.7.0"
  }
 },
 "nbformat": 4,
 "nbformat_minor": 2
}
